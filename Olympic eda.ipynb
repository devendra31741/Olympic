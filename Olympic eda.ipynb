{
 "cells": [
  {
   "cell_type": "markdown",
   "id": "8762b126",
   "metadata": {},
   "source": [
    "# ABOUT DATASET\n",
    "## <FONT COLOR=\"Green\"><b>OLYMPICS</b>\n",
    " The data set contain 10 column named name of the player, year they played , date of played which is completely irrevelant, sports of that person, country which person belongs to ,number of gold medal that player won, number of silver that person won, number of bronze medal that person won and lastly the total number of medal that person won.\n",
    "    "
   ]
  },
  {
   "cell_type": "markdown",
   "id": "6b9039cd",
   "metadata": {},
   "source": [
    "# Importing importing library "
   ]
  },
  {
   "cell_type": "code",
   "execution_count": 1,
   "id": "dd0074da",
   "metadata": {},
   "outputs": [],
   "source": [
    "import pandas as pd\n",
    "import seaborn as sns\n",
    "import numpy as np\n",
    "import matplotlib.pyplot as plt"
   ]
  },
  {
   "cell_type": "markdown",
   "id": "4f1eda6d",
   "metadata": {},
   "source": [
    "## Importing files from the device"
   ]
  },
  {
   "cell_type": "code",
   "execution_count": 2,
   "id": "eb5738db",
   "metadata": {},
   "outputs": [
    {
     "data": {
      "text/html": [
       "<div>\n",
       "<style scoped>\n",
       "    .dataframe tbody tr th:only-of-type {\n",
       "        vertical-align: middle;\n",
       "    }\n",
       "\n",
       "    .dataframe tbody tr th {\n",
       "        vertical-align: top;\n",
       "    }\n",
       "\n",
       "    .dataframe thead th {\n",
       "        text-align: right;\n",
       "    }\n",
       "</style>\n",
       "<table border=\"1\" class=\"dataframe\">\n",
       "  <thead>\n",
       "    <tr style=\"text-align: right;\">\n",
       "      <th></th>\n",
       "      <th>name</th>\n",
       "      <th>age</th>\n",
       "      <th>country</th>\n",
       "      <th>year</th>\n",
       "      <th>Date_Given</th>\n",
       "      <th>sports</th>\n",
       "      <th>gold_medal</th>\n",
       "      <th>silver_medal</th>\n",
       "      <th>brone_medal</th>\n",
       "      <th>total_medal</th>\n",
       "    </tr>\n",
       "  </thead>\n",
       "  <tbody>\n",
       "    <tr>\n",
       "      <th>0</th>\n",
       "      <td>Michael Phelps</td>\n",
       "      <td>23.0</td>\n",
       "      <td>United States</td>\n",
       "      <td>2008</td>\n",
       "      <td>8/24/2008</td>\n",
       "      <td>Swimming</td>\n",
       "      <td>8</td>\n",
       "      <td>0</td>\n",
       "      <td>0</td>\n",
       "      <td>8</td>\n",
       "    </tr>\n",
       "    <tr>\n",
       "      <th>1</th>\n",
       "      <td>Michael Phelps</td>\n",
       "      <td>19.0</td>\n",
       "      <td>United States</td>\n",
       "      <td>2004</td>\n",
       "      <td>8/29/2004</td>\n",
       "      <td>Swimming</td>\n",
       "      <td>6</td>\n",
       "      <td>0</td>\n",
       "      <td>2</td>\n",
       "      <td>8</td>\n",
       "    </tr>\n",
       "    <tr>\n",
       "      <th>2</th>\n",
       "      <td>Michael Phelps</td>\n",
       "      <td>27.0</td>\n",
       "      <td>United States</td>\n",
       "      <td>2012</td>\n",
       "      <td>08-12-2012</td>\n",
       "      <td>Swimming</td>\n",
       "      <td>4</td>\n",
       "      <td>2</td>\n",
       "      <td>0</td>\n",
       "      <td>6</td>\n",
       "    </tr>\n",
       "    <tr>\n",
       "      <th>3</th>\n",
       "      <td>Natalie Coughlin</td>\n",
       "      <td>25.0</td>\n",
       "      <td>United States</td>\n",
       "      <td>2008</td>\n",
       "      <td>8/24/2008</td>\n",
       "      <td>Swimming</td>\n",
       "      <td>1</td>\n",
       "      <td>2</td>\n",
       "      <td>3</td>\n",
       "      <td>6</td>\n",
       "    </tr>\n",
       "    <tr>\n",
       "      <th>4</th>\n",
       "      <td>Aleksey Nemov</td>\n",
       "      <td>24.0</td>\n",
       "      <td>Russia</td>\n",
       "      <td>2000</td>\n",
       "      <td>10-01-2000</td>\n",
       "      <td>Gymnastics</td>\n",
       "      <td>2</td>\n",
       "      <td>1</td>\n",
       "      <td>3</td>\n",
       "      <td>6</td>\n",
       "    </tr>\n",
       "  </tbody>\n",
       "</table>\n",
       "</div>"
      ],
      "text/plain": [
       "               name   age        country  year  Date_Given      sports  \\\n",
       "0    Michael Phelps  23.0  United States  2008   8/24/2008    Swimming   \n",
       "1    Michael Phelps  19.0  United States  2004   8/29/2004    Swimming   \n",
       "2    Michael Phelps  27.0  United States  2012  08-12-2012    Swimming   \n",
       "3  Natalie Coughlin  25.0  United States  2008   8/24/2008    Swimming   \n",
       "4     Aleksey Nemov  24.0         Russia  2000  10-01-2000  Gymnastics   \n",
       "\n",
       "   gold_medal  silver_medal  brone_medal  total_medal  \n",
       "0           8             0            0            8  \n",
       "1           6             0            2            8  \n",
       "2           4             2            0            6  \n",
       "3           1             2            3            6  \n",
       "4           2             1            3            6  "
      ]
     },
     "execution_count": 2,
     "metadata": {},
     "output_type": "execute_result"
    }
   ],
   "source": [
    "olympic= pd.read_csv(\"E:\\devendra\\data analysis devendra work\\project\\Olympics-dataset-Analysis-main\\Olympics-dataset-Analysis-main\\olympix_master.csv\")\n",
    "olympic.head()"
   ]
  },
  {
   "cell_type": "code",
   "execution_count": 3,
   "id": "ccf7f750",
   "metadata": {},
   "outputs": [
    {
     "name": "stdout",
     "output_type": "stream",
     "text": [
      "<class 'pandas.core.frame.DataFrame'>\n",
      "RangeIndex: 8618 entries, 0 to 8617\n",
      "Data columns (total 10 columns):\n",
      " #   Column        Non-Null Count  Dtype  \n",
      "---  ------        --------------  -----  \n",
      " 0   name          8613 non-null   object \n",
      " 1   age           8613 non-null   float64\n",
      " 2   country       8618 non-null   object \n",
      " 3   year          8618 non-null   int64  \n",
      " 4   Date_Given    8618 non-null   object \n",
      " 5   sports        8618 non-null   object \n",
      " 6   gold_medal    8618 non-null   int64  \n",
      " 7   silver_medal  8618 non-null   int64  \n",
      " 8   brone_medal   8618 non-null   int64  \n",
      " 9   total_medal   8618 non-null   int64  \n",
      "dtypes: float64(1), int64(5), object(4)\n",
      "memory usage: 673.4+ KB\n"
     ]
    }
   ],
   "source": [
    "olympic.info()"
   ]
  },
  {
   "cell_type": "markdown",
   "id": "181cd863",
   "metadata": {},
   "source": [
    "It is very mucb clear that the column name and age contain some null value as other column have 8618 value while name and age contain only 8613 values\n"
   ]
  },
  {
   "cell_type": "code",
   "execution_count": 4,
   "id": "2d7e2045",
   "metadata": {},
   "outputs": [
    {
     "data": {
      "text/plain": [
       "name            5\n",
       "age             5\n",
       "country         0\n",
       "year            0\n",
       "Date_Given      0\n",
       "sports          0\n",
       "gold_medal      0\n",
       "silver_medal    0\n",
       "brone_medal     0\n",
       "total_medal     0\n",
       "dtype: int64"
      ]
     },
     "execution_count": 4,
     "metadata": {},
     "output_type": "execute_result"
    }
   ],
   "source": [
    "olympic.isnull().sum()"
   ]
  },
  {
   "cell_type": "markdown",
   "id": "10cd871b",
   "metadata": {},
   "source": [
    "name and age contain 5 null value each thus equal to total of 10 null values. Looking at the unique values of each columns"
   ]
  },
  {
   "cell_type": "code",
   "execution_count": 5,
   "id": "9189ad94",
   "metadata": {},
   "outputs": [
    {
     "name": "stdout",
     "output_type": "stream",
     "text": [
      "[23. 19. 27. 25. 24. 17. 22. 21. 33. 26. 18. 29. 20. 30. 28. 16. 32. 41.\n",
      " 15. 34. 31. 35. 37. 38. 46. 40. 44. 45. 39. 42. 36. nan 49. 43. 47. 52.\n",
      " 50. 54. 51. 56. 55. 61. 48.]\n",
      "\n",
      "the total unique value in age is: 43\n"
     ]
    }
   ],
   "source": [
    "print(f'{olympic.age.unique()}\\n')\n",
    "print(f'the total unique value in age is: {len(olympic.age.unique())}')"
   ]
  },
  {
   "cell_type": "code",
   "execution_count": 6,
   "id": "a8658110",
   "metadata": {},
   "outputs": [
    {
     "name": "stdout",
     "output_type": "stream",
     "text": [
      "['United States' 'Russia' 'Australia' 'Canada' 'Norway' 'China' 'Zimbabwe'\n",
      " 'Netherlands' 'South Korea' 'Croatia' 'France' 'Japan' 'Hungary'\n",
      " 'Germany' 'Poland' 'South Africa' 'Sweden' 'Ukraine' 'Italy'\n",
      " 'Czech Republic' 'Austria' 'Finland' 'Romania' 'Great Britain' 'Jamaica'\n",
      " 'Singapore' 'Belarus' 'Chile' 'Spain' 'Tunisia' 'Brazil' 'Slovakia'\n",
      " 'Costa Rica' 'Bulgaria' 'Switzerland' 'New Zealand' 'Estonia' 'Kenya'\n",
      " 'Ethiopia' 'Trinidad and Tobago' 'Turkey' 'Morocco' 'Bahamas' 'Slovenia'\n",
      " 'Armenia' 'Azerbaijan' 'India' 'Puerto Rico' 'Egypt' 'Kazakhstan' 'Iran'\n",
      " 'Georgia' 'Lithuania' 'Cuba' 'Colombia' 'Mongolia' 'Uzbekistan'\n",
      " 'North Korea' 'Tajikistan' 'Kyrgyzstan' 'Greece' 'Macedonia' 'Moldova'\n",
      " 'Chinese Taipei' 'Indonesia' 'Thailand' 'Vietnam' 'Latvia' 'Venezuela'\n",
      " 'Mexico' 'Nigeria' 'Qatar' 'Serbia' 'Serbia and Montenegro' 'Hong Kong'\n",
      " 'Denmark' 'Portugal' 'Argentina' 'Afghanistan' 'Gabon'\n",
      " 'Dominican Republic' 'Belgium' 'Kuwait' 'United Arab Emirates' 'Cyprus'\n",
      " 'Israel' 'Algeria' 'Montenegro' 'Iceland' 'Paraguay' 'Cameroon'\n",
      " 'Saudi Arabia' 'Ireland' 'Malaysia' 'Uruguay' 'Togo' 'Mauritius' 'Syria'\n",
      " 'Botswana' 'Guatemala' 'Bahrain' 'Grenada' 'Uganda' 'Sudan' 'Ecuador'\n",
      " 'Panama' 'Eritrea' 'Sri Lanka' 'Mozambique' 'Barbados']\n",
      "\n",
      "the total number of unique countries are :110\n"
     ]
    }
   ],
   "source": [
    "print(f'{olympic.country.unique()}\\n')\n",
    "print(f'the total number of unique countries are :{len(olympic.country.unique())}')"
   ]
  },
  {
   "cell_type": "code",
   "execution_count": 7,
   "id": "ddab5b6f",
   "metadata": {},
   "outputs": [
    {
     "name": "stdout",
     "output_type": "stream",
     "text": [
      "[2008 2004 2012 2000 2006 2010 2002]\n",
      "\n",
      "The number of years are: 7\n"
     ]
    }
   ],
   "source": [
    "print(f'{olympic.year.unique()}\\n')\n",
    "print(f'The number of years are: {len(olympic.year.unique())}')"
   ]
  },
  {
   "cell_type": "code",
   "execution_count": 8,
   "id": "373a4740",
   "metadata": {},
   "outputs": [
    {
     "name": "stdout",
     "output_type": "stream",
     "text": [
      "['Swimming' 'Gymnastics' 'Speed Skating' 'Cross Country Skiing'\n",
      " 'Short-Track Speed Skating' 'Diving' 'Cycling' 'Biathlon' 'Alpine Skiing'\n",
      " 'Ski Jumping' 'Nordic Combined' 'Athletics' 'Table Tennis' 'Tennis'\n",
      " 'Synchronized Swimming' 'Shooting' 'Rowing' 'Fencing' 'Equestrian'\n",
      " 'Canoeing' 'Bobsleigh' 'Badminton' 'Archery' 'Wrestling' 'Weightlifting'\n",
      " 'Waterpolo' 'Volleyball' 'Triathlon' 'Trampoline' 'Taekwondo' 'Softball'\n",
      " 'Snowboarding' 'Skeleton' 'Sailing' 'Rhythmic Gymnastics'\n",
      " 'Modern Pentathlon' 'Luge' 'Judo' 'Ice Hockey' 'Hockey' 'Handball'\n",
      " 'Football' 'Figure Skating' 'Freestyle Skiing' 'Curling' 'Baseball'\n",
      " 'Boxing' 'Beach Volleyball' 'Basketball'] \n",
      "\n",
      "the total number of different sports played in the olympic are: 49\n"
     ]
    }
   ],
   "source": [
    "print(f'{olympic.sports.unique()} \\n')\n",
    "print(f'the total number of different sports played in the olympic are: {len(olympic.sports.unique())}')"
   ]
  },
  {
   "cell_type": "code",
   "execution_count": 9,
   "id": "910c562d",
   "metadata": {},
   "outputs": [
    {
     "name": "stdout",
     "output_type": "stream",
     "text": [
      "True\n"
     ]
    }
   ],
   "source": [
    "print(olympic.isnull().values.any())"
   ]
  },
  {
   "cell_type": "markdown",
   "id": "d8376c10",
   "metadata": {},
   "source": [
    "contain null values "
   ]
  },
  {
   "cell_type": "code",
   "execution_count": 10,
   "id": "68fe85de",
   "metadata": {},
   "outputs": [
    {
     "data": {
      "text/html": [
       "<div>\n",
       "<style scoped>\n",
       "    .dataframe tbody tr th:only-of-type {\n",
       "        vertical-align: middle;\n",
       "    }\n",
       "\n",
       "    .dataframe tbody tr th {\n",
       "        vertical-align: top;\n",
       "    }\n",
       "\n",
       "    .dataframe thead th {\n",
       "        text-align: right;\n",
       "    }\n",
       "</style>\n",
       "<table border=\"1\" class=\"dataframe\">\n",
       "  <thead>\n",
       "    <tr style=\"text-align: right;\">\n",
       "      <th></th>\n",
       "      <th>name</th>\n",
       "      <th>age</th>\n",
       "      <th>country</th>\n",
       "      <th>year</th>\n",
       "      <th>Date_Given</th>\n",
       "      <th>sports</th>\n",
       "      <th>gold_medal</th>\n",
       "      <th>silver_medal</th>\n",
       "      <th>brone_medal</th>\n",
       "      <th>total_medal</th>\n",
       "    </tr>\n",
       "  </thead>\n",
       "  <tbody>\n",
       "    <tr>\n",
       "      <th>1428</th>\n",
       "      <td>NaN</td>\n",
       "      <td>NaN</td>\n",
       "      <td>Brazil</td>\n",
       "      <td>2012</td>\n",
       "      <td>08-12-2012</td>\n",
       "      <td>Volleyball</td>\n",
       "      <td>0</td>\n",
       "      <td>1</td>\n",
       "      <td>0</td>\n",
       "      <td>1</td>\n",
       "    </tr>\n",
       "    <tr>\n",
       "      <th>1429</th>\n",
       "      <td>NaN</td>\n",
       "      <td>NaN</td>\n",
       "      <td>Brazil</td>\n",
       "      <td>2012</td>\n",
       "      <td>08-12-2012</td>\n",
       "      <td>Volleyball</td>\n",
       "      <td>0</td>\n",
       "      <td>1</td>\n",
       "      <td>0</td>\n",
       "      <td>1</td>\n",
       "    </tr>\n",
       "    <tr>\n",
       "      <th>1430</th>\n",
       "      <td>NaN</td>\n",
       "      <td>NaN</td>\n",
       "      <td>Brazil</td>\n",
       "      <td>2012</td>\n",
       "      <td>08-12-2012</td>\n",
       "      <td>Volleyball</td>\n",
       "      <td>0</td>\n",
       "      <td>1</td>\n",
       "      <td>0</td>\n",
       "      <td>1</td>\n",
       "    </tr>\n",
       "    <tr>\n",
       "      <th>4485</th>\n",
       "      <td>NaN</td>\n",
       "      <td>NaN</td>\n",
       "      <td>Argentina</td>\n",
       "      <td>2012</td>\n",
       "      <td>08-12-2012</td>\n",
       "      <td>Hockey</td>\n",
       "      <td>0</td>\n",
       "      <td>1</td>\n",
       "      <td>0</td>\n",
       "      <td>1</td>\n",
       "    </tr>\n",
       "    <tr>\n",
       "      <th>4486</th>\n",
       "      <td>NaN</td>\n",
       "      <td>NaN</td>\n",
       "      <td>Argentina</td>\n",
       "      <td>2012</td>\n",
       "      <td>08-12-2012</td>\n",
       "      <td>Hockey</td>\n",
       "      <td>0</td>\n",
       "      <td>1</td>\n",
       "      <td>0</td>\n",
       "      <td>1</td>\n",
       "    </tr>\n",
       "  </tbody>\n",
       "</table>\n",
       "</div>"
      ],
      "text/plain": [
       "     name  age    country  year  Date_Given      sports  gold_medal  \\\n",
       "1428  NaN  NaN     Brazil  2012  08-12-2012  Volleyball           0   \n",
       "1429  NaN  NaN     Brazil  2012  08-12-2012  Volleyball           0   \n",
       "1430  NaN  NaN     Brazil  2012  08-12-2012  Volleyball           0   \n",
       "4485  NaN  NaN  Argentina  2012  08-12-2012      Hockey           0   \n",
       "4486  NaN  NaN  Argentina  2012  08-12-2012      Hockey           0   \n",
       "\n",
       "      silver_medal  brone_medal  total_medal  \n",
       "1428             1            0            1  \n",
       "1429             1            0            1  \n",
       "1430             1            0            1  \n",
       "4485             1            0            1  \n",
       "4486             1            0            1  "
      ]
     },
     "execution_count": 10,
     "metadata": {},
     "output_type": "execute_result"
    }
   ],
   "source": [
    "olympic.loc[olympic.isnull().any(axis=1)]"
   ]
  },
  {
   "cell_type": "markdown",
   "id": "b7432b22",
   "metadata": {},
   "source": [
    "## Deleting all Value"
   ]
  },
  {
   "cell_type": "code",
   "execution_count": 11,
   "id": "8f80f653",
   "metadata": {},
   "outputs": [],
   "source": [
    "olympic.dropna(inplace=True)"
   ]
  },
  {
   "cell_type": "markdown",
   "id": "c1770e53",
   "metadata": {},
   "source": [
    "Now again checking for all the values and null values"
   ]
  },
  {
   "cell_type": "code",
   "execution_count": 12,
   "id": "2d20d134",
   "metadata": {},
   "outputs": [
    {
     "name": "stdout",
     "output_type": "stream",
     "text": [
      "<class 'pandas.core.frame.DataFrame'>\n",
      "Int64Index: 8613 entries, 0 to 8617\n",
      "Data columns (total 10 columns):\n",
      " #   Column        Non-Null Count  Dtype  \n",
      "---  ------        --------------  -----  \n",
      " 0   name          8613 non-null   object \n",
      " 1   age           8613 non-null   float64\n",
      " 2   country       8613 non-null   object \n",
      " 3   year          8613 non-null   int64  \n",
      " 4   Date_Given    8613 non-null   object \n",
      " 5   sports        8613 non-null   object \n",
      " 6   gold_medal    8613 non-null   int64  \n",
      " 7   silver_medal  8613 non-null   int64  \n",
      " 8   brone_medal   8613 non-null   int64  \n",
      " 9   total_medal   8613 non-null   int64  \n",
      "dtypes: float64(1), int64(5), object(4)\n",
      "memory usage: 740.2+ KB\n"
     ]
    }
   ],
   "source": [
    "olympic.info()"
   ]
  },
  {
   "cell_type": "markdown",
   "id": "58b18e89",
   "metadata": {},
   "source": [
    "Since the all the column values are same we can conclude that the data is now <b> Deleted </b>"
   ]
  },
  {
   "cell_type": "markdown",
   "id": "8bac7c63",
   "metadata": {},
   "source": [
    "Now replacing all the unwanted character from the name column "
   ]
  },
  {
   "cell_type": "code",
   "execution_count": 13,
   "id": "c0e7aa55",
   "metadata": {},
   "outputs": [
    {
     "data": {
      "text/plain": [
       "0                    Michael Phelps\n",
       "1                    Michael Phelps\n",
       "2                    Michael Phelps\n",
       "3                  Natalie Coughlin\n",
       "4                     Aleksey Nemov\n",
       "5                     Alicia Coutts\n",
       "6                    Missy Franklin\n",
       "7                       Ryan Lochte\n",
       "8                   Allison Schmitt\n",
       "9                  Natalie Coughlin\n",
       "10                       Ian Thorpe\n",
       "11                      Dara Torres\n",
       "12                    Cindy Klassen\n",
       "13                    Nastia Liukin\n",
       "14                    Marit Bjørgen\n",
       "15                         Sun Yang\n",
       "16                  Kirsty Coventry\n",
       "17            Libby Lenton-Trickett\n",
       "18                      Ryan Lochte\n",
       "19                   Inge de Bruijn\n",
       "20                    Petria Thomas\n",
       "21                       Ian Thorpe\n",
       "22                   Inge de Bruijn\n",
       "23                    Gary Hall Jr.\n",
       "24                     Michael Klim\n",
       "25                    Susie O'Neill\n",
       "26                   Jenny Thompson\n",
       "27        Pieter van den Hoogenband\n",
       "28                      An Hyeon-Su\n",
       "29                  Aliya Mustafina\n",
       "30                    Shawn Johnson\n",
       "31                    Dmitry Sautin\n",
       "32    Leontien Zijlaard-van Moorsel\n",
       "33               Petter Northug Jr.\n",
       "34             Ole Einar Bjørndalen\n",
       "35                  Janica Kostelic\n",
       "36                    Nathan Adrian\n",
       "37                    Yannick Agnel\n",
       "38                 Brittany Elmslie\n",
       "39                     Matt Grevers\n",
       "40                     Ryosuke Irie\n",
       "41                     Cullen Jones\n",
       "42              Ranomi Kromowidjojo\n",
       "43                   Camille Muffat\n",
       "44                    Mel Schlanger\n",
       "45                    Emily Seebohm\n",
       "46                     Rebecca Soni\n",
       "47                    Satomi Suzuki\n",
       "48                     Dana Vollmer\n",
       "49                    Alain Bernard\n",
       "Name: name, dtype: object"
      ]
     },
     "execution_count": 13,
     "metadata": {},
     "output_type": "execute_result"
    }
   ],
   "source": [
    "olympic['name'].head(50)"
   ]
  },
  {
   "cell_type": "markdown",
   "id": "478c1f7e",
   "metadata": {},
   "source": [
    "There is a special character. Now removing all the character with blanks"
   ]
  },
  {
   "cell_type": "code",
   "execution_count": 14,
   "id": "afc7ac91",
   "metadata": {},
   "outputs": [],
   "source": [
    "import re\n"
   ]
  },
  {
   "cell_type": "code",
   "execution_count": 15,
   "id": "72a8c754",
   "metadata": {},
   "outputs": [],
   "source": [
    "olympic['name']=olympic.name.replace('[^A-Za-z]',\" \",regex=True)"
   ]
  },
  {
   "cell_type": "code",
   "execution_count": 16,
   "id": "dfed9e46",
   "metadata": {},
   "outputs": [
    {
     "data": {
      "text/plain": [
       "0                    Michael Phelps\n",
       "1                    Michael Phelps\n",
       "2                    Michael Phelps\n",
       "3                  Natalie Coughlin\n",
       "4                     Aleksey Nemov\n",
       "5                     Alicia Coutts\n",
       "6                    Missy Franklin\n",
       "7                       Ryan Lochte\n",
       "8                   Allison Schmitt\n",
       "9                  Natalie Coughlin\n",
       "10                       Ian Thorpe\n",
       "11                      Dara Torres\n",
       "12                    Cindy Klassen\n",
       "13                    Nastia Liukin\n",
       "14                    Marit Bj rgen\n",
       "15                         Sun Yang\n",
       "16                  Kirsty Coventry\n",
       "17            Libby Lenton Trickett\n",
       "18                      Ryan Lochte\n",
       "19                   Inge de Bruijn\n",
       "20                    Petria Thomas\n",
       "21                       Ian Thorpe\n",
       "22                   Inge de Bruijn\n",
       "23                    Gary Hall Jr \n",
       "24                     Michael Klim\n",
       "25                    Susie O Neill\n",
       "26                   Jenny Thompson\n",
       "27        Pieter van den Hoogenband\n",
       "28                      An Hyeon Su\n",
       "29                  Aliya Mustafina\n",
       "30                    Shawn Johnson\n",
       "31                    Dmitry Sautin\n",
       "32    Leontien Zijlaard van Moorsel\n",
       "33               Petter Northug Jr \n",
       "34             Ole Einar Bj rndalen\n",
       "35                  Janica Kostelic\n",
       "36                    Nathan Adrian\n",
       "37                    Yannick Agnel\n",
       "38                 Brittany Elmslie\n",
       "39                     Matt Grevers\n",
       "40                     Ryosuke Irie\n",
       "41                     Cullen Jones\n",
       "42              Ranomi Kromowidjojo\n",
       "43                   Camille Muffat\n",
       "44                    Mel Schlanger\n",
       "45                    Emily Seebohm\n",
       "46                     Rebecca Soni\n",
       "47                    Satomi Suzuki\n",
       "48                     Dana Vollmer\n",
       "49                    Alain Bernard\n",
       "Name: name, dtype: object"
      ]
     },
     "execution_count": 16,
     "metadata": {},
     "output_type": "execute_result"
    }
   ],
   "source": [
    "olympic.name.head(50)"
   ]
  },
  {
   "cell_type": "markdown",
   "id": "416e037e",
   "metadata": {},
   "source": [
    "Comparing the names from the previous we get to know that all the special charater have been <b>replaced</b> successfully. Now its time to finally export the data to excel file"
   ]
  },
  {
   "cell_type": "code",
   "execution_count": 17,
   "id": "d7881851",
   "metadata": {},
   "outputs": [],
   "source": [
    "olympic.to_csv('cleaned_olympic_data.csv',index=False)"
   ]
  },
  {
   "cell_type": "markdown",
   "id": "7a211943",
   "metadata": {},
   "source": [
    "# Visualization and Analysis Starts from here "
   ]
  },
  {
   "cell_type": "code",
   "execution_count": 18,
   "id": "38cedd5e",
   "metadata": {},
   "outputs": [
    {
     "data": {
      "text/html": [
       "<div>\n",
       "<style scoped>\n",
       "    .dataframe tbody tr th:only-of-type {\n",
       "        vertical-align: middle;\n",
       "    }\n",
       "\n",
       "    .dataframe tbody tr th {\n",
       "        vertical-align: top;\n",
       "    }\n",
       "\n",
       "    .dataframe thead th {\n",
       "        text-align: right;\n",
       "    }\n",
       "</style>\n",
       "<table border=\"1\" class=\"dataframe\">\n",
       "  <thead>\n",
       "    <tr style=\"text-align: right;\">\n",
       "      <th></th>\n",
       "      <th>country</th>\n",
       "      <th>count</th>\n",
       "    </tr>\n",
       "  </thead>\n",
       "  <tbody>\n",
       "    <tr>\n",
       "      <th>0</th>\n",
       "      <td>United States</td>\n",
       "      <td>1109</td>\n",
       "    </tr>\n",
       "    <tr>\n",
       "      <th>1</th>\n",
       "      <td>Russia</td>\n",
       "      <td>706</td>\n",
       "    </tr>\n",
       "    <tr>\n",
       "      <th>2</th>\n",
       "      <td>Germany</td>\n",
       "      <td>552</td>\n",
       "    </tr>\n",
       "    <tr>\n",
       "      <th>3</th>\n",
       "      <td>Australia</td>\n",
       "      <td>524</td>\n",
       "    </tr>\n",
       "    <tr>\n",
       "      <th>4</th>\n",
       "      <td>China</td>\n",
       "      <td>450</td>\n",
       "    </tr>\n",
       "    <tr>\n",
       "      <th>5</th>\n",
       "      <td>Canada</td>\n",
       "      <td>351</td>\n",
       "    </tr>\n",
       "    <tr>\n",
       "      <th>6</th>\n",
       "      <td>Italy</td>\n",
       "      <td>307</td>\n",
       "    </tr>\n",
       "    <tr>\n",
       "      <th>7</th>\n",
       "      <td>Great Britain</td>\n",
       "      <td>296</td>\n",
       "    </tr>\n",
       "    <tr>\n",
       "      <th>8</th>\n",
       "      <td>France</td>\n",
       "      <td>287</td>\n",
       "    </tr>\n",
       "    <tr>\n",
       "      <th>9</th>\n",
       "      <td>Netherlands</td>\n",
       "      <td>286</td>\n",
       "    </tr>\n",
       "  </tbody>\n",
       "</table>\n",
       "</div>"
      ],
      "text/plain": [
       "         country  count\n",
       "0  United States   1109\n",
       "1         Russia    706\n",
       "2        Germany    552\n",
       "3      Australia    524\n",
       "4          China    450\n",
       "5         Canada    351\n",
       "6          Italy    307\n",
       "7  Great Britain    296\n",
       "8         France    287\n",
       "9    Netherlands    286"
      ]
     },
     "execution_count": 18,
     "metadata": {},
     "output_type": "execute_result"
    }
   ],
   "source": [
    "top_10_countries = olympic.value_counts('country').reset_index(name='count')[:10]\n",
    "top_10_countries"
   ]
  },
  {
   "cell_type": "code",
   "execution_count": 19,
   "id": "bd9184b8",
   "metadata": {},
   "outputs": [
    {
     "data": {
      "image/png": "[encoded data removed]",
      "text/plain": [
       "<Figure size 1080x504 with 1 Axes>"
      ]
     },
     "metadata": {
      "needs_background": "light"
     },
     "output_type": "display_data"
    }
   ],
   "source": [
    "plt.figure(figsize=(15,7))\n",
    "plot=sns.barplot(x='country',y='count',hue='country',data=top_10_countries,dodge=False)\n",
    "#plt.bar(top_10_countries['country'],top_10_countries['count'],color=\"green\")\n",
    "plt.xlabel(\"Countries\",fontsize=16)\n",
    "plt.ylabel(\"Counts\",fontsize=16)\n",
    "plt.title(\"Player of respective countries\",fontsize=20)\n",
    "plt.show()\n",
    "                   "
   ]
  },
  {
   "cell_type": "markdown",
   "id": "a5d51780",
   "metadata": {},
   "source": [
    "Thus United States's player have participated most as we compared to all countries"
   ]
  },
  {
   "cell_type": "markdown",
   "id": "ee27ef14",
   "metadata": {},
   "source": [
    "## Countries produced most players"
   ]
  },
  {
   "cell_type": "code",
   "execution_count": 20,
   "id": "0b75e5c1",
   "metadata": {},
   "outputs": [
    {
     "data": {
      "text/html": [
       "<div>\n",
       "<style scoped>\n",
       "    .dataframe tbody tr th:only-of-type {\n",
       "        vertical-align: middle;\n",
       "    }\n",
       "\n",
       "    .dataframe tbody tr th {\n",
       "        vertical-align: top;\n",
       "    }\n",
       "\n",
       "    .dataframe thead th {\n",
       "        text-align: right;\n",
       "    }\n",
       "</style>\n",
       "<table border=\"1\" class=\"dataframe\">\n",
       "  <thead>\n",
       "    <tr style=\"text-align: right;\">\n",
       "      <th></th>\n",
       "      <th>country</th>\n",
       "      <th>name</th>\n",
       "    </tr>\n",
       "  </thead>\n",
       "  <tbody>\n",
       "    <tr>\n",
       "      <th>104</th>\n",
       "      <td>United States</td>\n",
       "      <td>878</td>\n",
       "    </tr>\n",
       "    <tr>\n",
       "      <th>80</th>\n",
       "      <td>Russia</td>\n",
       "      <td>565</td>\n",
       "    </tr>\n",
       "    <tr>\n",
       "      <th>37</th>\n",
       "      <td>Germany</td>\n",
       "      <td>422</td>\n",
       "    </tr>\n",
       "    <tr>\n",
       "      <th>4</th>\n",
       "      <td>Australia</td>\n",
       "      <td>413</td>\n",
       "    </tr>\n",
       "    <tr>\n",
       "      <th>18</th>\n",
       "      <td>China</td>\n",
       "      <td>358</td>\n",
       "    </tr>\n",
       "    <tr>\n",
       "      <th>16</th>\n",
       "      <td>Canada</td>\n",
       "      <td>282</td>\n",
       "    </tr>\n",
       "    <tr>\n",
       "      <th>50</th>\n",
       "      <td>Italy</td>\n",
       "      <td>247</td>\n",
       "    </tr>\n",
       "    <tr>\n",
       "      <th>34</th>\n",
       "      <td>France</td>\n",
       "      <td>239</td>\n",
       "    </tr>\n",
       "    <tr>\n",
       "      <th>38</th>\n",
       "      <td>Great Britain</td>\n",
       "      <td>232</td>\n",
       "    </tr>\n",
       "    <tr>\n",
       "      <th>88</th>\n",
       "      <td>South Korea</td>\n",
       "      <td>232</td>\n",
       "    </tr>\n",
       "  </tbody>\n",
       "</table>\n",
       "</div>"
      ],
      "text/plain": [
       "           country  name\n",
       "104  United States   878\n",
       "80          Russia   565\n",
       "37         Germany   422\n",
       "4        Australia   413\n",
       "18           China   358\n",
       "16          Canada   282\n",
       "50           Italy   247\n",
       "34          France   239\n",
       "38   Great Britain   232\n",
       "88     South Korea   232"
      ]
     },
     "execution_count": 20,
     "metadata": {},
     "output_type": "execute_result"
    }
   ],
   "source": [
    "#removing duplicates first then counting the values\n",
    "most_players=olympic.drop_duplicates(['name']).groupby('country')['name'].count().reset_index().sort_values('name',ascending=False).head(10)\n",
    "most_players"
   ]
  },
  {
   "cell_type": "code",
   "execution_count": 21,
   "id": "d793ad49",
   "metadata": {},
   "outputs": [],
   "source": [
    "def plot2(column1,column2,data_name):\n",
    "    plt.figure(figsize=(15,6))\n",
    "    #plt.bar(column1,column2,data=most_players,color='green')\n",
    "    plot=sns.barplot(x=column1,y=column2,data=data_name,hue=column1,dodge=False)\n",
    "    plt.xlabel(f'{column1}',fontsize=16)\n",
    "    plt.ylabel(\"Number of participant\",fontsize=16)\n",
    "    plt.title(\"Distribution of {} vs {}\".format(column1,column2),fontsize=20)\n",
    "    plt.grid()"
   ]
  },
  {
   "cell_type": "code",
   "execution_count": 22,
   "id": "5d22cd3a",
   "metadata": {},
   "outputs": [
    {
     "data": {
      "image/png": "[encoded data removed]",
      "text/plain": [
       "<Figure size 1080x432 with 1 Axes>"
      ]
     },
     "metadata": {
      "needs_background": "light"
     },
     "output_type": "display_data"
    }
   ],
   "source": [
    "plot2('country','name',most_players)"
   ]
  },
  {
   "cell_type": "markdown",
   "id": "d9d14579",
   "metadata": {},
   "source": [
    "## Fron this we can see that that USA sends the most number of players followed by Russia"
   ]
  },
  {
   "cell_type": "code",
   "execution_count": 23,
   "id": "5dc1feb9",
   "metadata": {},
   "outputs": [
    {
     "data": {
      "text/html": [
       "<div>\n",
       "<style scoped>\n",
       "    .dataframe tbody tr th:only-of-type {\n",
       "        vertical-align: middle;\n",
       "    }\n",
       "\n",
       "    .dataframe tbody tr th {\n",
       "        vertical-align: top;\n",
       "    }\n",
       "\n",
       "    .dataframe thead th {\n",
       "        text-align: right;\n",
       "    }\n",
       "</style>\n",
       "<table border=\"1\" class=\"dataframe\">\n",
       "  <thead>\n",
       "    <tr style=\"text-align: right;\">\n",
       "      <th></th>\n",
       "      <th>gold_medal</th>\n",
       "    </tr>\n",
       "    <tr>\n",
       "      <th>country</th>\n",
       "      <th></th>\n",
       "    </tr>\n",
       "  </thead>\n",
       "  <tbody>\n",
       "    <tr>\n",
       "      <th>United States</th>\n",
       "      <td>552</td>\n",
       "    </tr>\n",
       "    <tr>\n",
       "      <th>Russia</th>\n",
       "      <td>234</td>\n",
       "    </tr>\n",
       "    <tr>\n",
       "      <th>China</th>\n",
       "      <td>234</td>\n",
       "    </tr>\n",
       "    <tr>\n",
       "      <th>Germany</th>\n",
       "      <td>223</td>\n",
       "    </tr>\n",
       "    <tr>\n",
       "      <th>Canada</th>\n",
       "      <td>168</td>\n",
       "    </tr>\n",
       "    <tr>\n",
       "      <th>Australia</th>\n",
       "      <td>163</td>\n",
       "    </tr>\n",
       "    <tr>\n",
       "      <th>Great Britain</th>\n",
       "      <td>124</td>\n",
       "    </tr>\n",
       "    <tr>\n",
       "      <th>South Korea</th>\n",
       "      <td>110</td>\n",
       "    </tr>\n",
       "    <tr>\n",
       "      <th>France</th>\n",
       "      <td>108</td>\n",
       "    </tr>\n",
       "    <tr>\n",
       "      <th>Netherlands</th>\n",
       "      <td>101</td>\n",
       "    </tr>\n",
       "  </tbody>\n",
       "</table>\n",
       "</div>"
      ],
      "text/plain": [
       "               gold_medal\n",
       "country                  \n",
       "United States         552\n",
       "Russia                234\n",
       "China                 234\n",
       "Germany               223\n",
       "Canada                168\n",
       "Australia             163\n",
       "Great Britain         124\n",
       "South Korea           110\n",
       "France                108\n",
       "Netherlands           101"
      ]
     },
     "execution_count": 23,
     "metadata": {},
     "output_type": "execute_result"
    }
   ],
   "source": [
    "most_gmedals=olympic.groupby('country')[['gold_medal']].sum().sort_values('gold_medal',ascending=False).head(10)\n",
    "most_gmedals"
   ]
  },
  {
   "cell_type": "markdown",
   "id": "a75b51b0",
   "metadata": {},
   "source": [
    "## Total number of gold medal won "
   ]
  },
  {
   "cell_type": "code",
   "execution_count": 24,
   "id": "ddd01568",
   "metadata": {
    "scrolled": false
   },
   "outputs": [
    {
     "data": {
      "image/png": "[encoded data removed]",
      "text/plain": [
       "<Figure size 1080x504 with 1 Axes>"
      ]
     },
     "metadata": {
      "needs_background": "light"
     },
     "output_type": "display_data"
    }
   ],
   "source": [
    "most_gmedals[['gold_medal']].sort_values('gold_medal',ascending=False).plot(kind='bar',xlabel='country',title=\"Gold medals of country\",width=.9,figsize=(15,7))\n",
    "plt.title(\"Gold medal won By country\",fontsize=20)\n",
    "plt.xlabel('Country',fontsize=16)\n",
    "plt.ylabel('Number of participant',fontsize=16)\n",
    "plt.grid()"
   ]
  },
  {
   "cell_type": "markdown",
   "id": "cd19fc55",
   "metadata": {},
   "source": [
    "It is very much clear that USA have won most number of <b>Gold Medals</b> . Here it is also very interesting to know that Russia, China and Germany earned <b>almost equal </b> amount of gold medals."
   ]
  },
  {
   "cell_type": "code",
   "execution_count": 25,
   "id": "30b16f42",
   "metadata": {
    "scrolled": false
   },
   "outputs": [
    {
     "data": {
      "text/plain": [
       "Text(0.5, 1.0, 'Number of silver medal won by each county')"
      ]
     },
     "execution_count": 25,
     "metadata": {},
     "output_type": "execute_result"
    },
    {
     "data": {
      "image/png": "[encoded data removed]",
      "text/plain": [
       "<Figure size 1080x432 with 1 Axes>"
      ]
     },
     "metadata": {
      "needs_background": "light"
     },
     "output_type": "display_data"
    }
   ],
   "source": [
    "most_smedals=olympic.groupby('country')[['silver_medal']].sum().sort_values('silver_medal',ascending=False).head(10)\n",
    "most_smedals[['silver_medal']].sort_values('silver_medal',ascending=False).plot(kind='bar',xlabel='country',figsize=(15,6),width=0.9)\n",
    "plt.grid()\n",
    "plt.xlabel(\"country\",fontsize=16)\n",
    "plt.ylabel('Number of participant',fontsize=16)\n",
    "plt.title('Number of silver medal won by each county',fontsize=20)"
   ]
  },
  {
   "cell_type": "markdown",
   "id": "99ad7f50",
   "metadata": {},
   "source": [
    "From the above graph it is very much clear that <b>USA</b> have Won most the silver medel. It is also interesting to note that <b> Australia and Russia </b> have won equal amount of silver medal, and they are followed by <b>USA</b>."
   ]
  },
  {
   "cell_type": "code",
   "execution_count": 26,
   "id": "4aebf37e",
   "metadata": {},
   "outputs": [
    {
     "data": {
      "image/png": "[encoded data removed]",
      "text/plain": [
       "<Figure size 1080x504 with 1 Axes>"
      ]
     },
     "metadata": {
      "needs_background": "light"
     },
     "output_type": "display_data"
    }
   ],
   "source": [
    "most_bmedal=olympic.groupby('country')[['brone_medal']].sum().sort_values('brone_medal',ascending=False).head(10)\n",
    "most_bmedal['brone_medal'].plot(kind='bar',width=0.9,xlabel='country',figsize=(15,7))\n",
    "plt.xlabel('Country',fontsize=16)\n",
    "plt.ylabel('Number of Participant',fontsize=16)\n",
    "plt.title(\"Number of people won the Bronze Medals\",fontsize=20)\n",
    "plt.grid()"
   ]
  },
  {
   "cell_type": "markdown",
   "id": "ddb7f032",
   "metadata": {},
   "source": [
    "From the above graph it is very much clear that <b>USA</b> Won the maximum number of Bronze medals. Here it is point to note that there is not very much difference between <b>Russia and USA</b>, Germany and Australia,Italy and China & South Korea, Canada and France</b>\n",
    "However <b>usa</b> won the maximum number of bronze medal followed by <b>Russia</b>"
   ]
  },
  {
   "cell_type": "code",
   "execution_count": 27,
   "id": "b43d8b0b",
   "metadata": {},
   "outputs": [
    {
     "data": {
      "image/png": "[encoded data removed]",
      "text/plain": [
       "<Figure size 1080x432 with 1 Axes>"
      ]
     },
     "metadata": {
      "needs_background": "light"
     },
     "output_type": "display_data"
    }
   ],
   "source": [
    "most_medals=olympic.groupby('country')[['total_medal']].sum().sort_values('total_medal',ascending=False).head(10)\n",
    "most_medals['total_medal'].plot(kind='bar',width=0.9,xlabel='country',figsize=(15,6))\n",
    "plt.xlabel(\"country\",fontsize=16)\n",
    "plt.ylabel('Number of participant',fontsize=16)\n",
    "plt.title('Total medals won by Countries',fontsize=20)\n",
    "plt.grid()"
   ]
  },
  {
   "cell_type": "markdown",
   "id": "ecb49feb",
   "metadata": {},
   "source": [
    "In terms of overall medals, i.e. sum of Gold,Silver and Bronze, the <b>USA</b> have won the maximum number of medals followd by <b>Russia and Germany</b>"
   ]
  },
  {
   "cell_type": "markdown",
   "id": "0bd3db74",
   "metadata": {},
   "source": [
    "# Sports Information\n",
    "## Maximum number of player participation in Sports"
   ]
  },
  {
   "cell_type": "code",
   "execution_count": 28,
   "id": "9ff5117c",
   "metadata": {},
   "outputs": [
    {
     "data": {
      "text/html": [
       "<div>\n",
       "<style scoped>\n",
       "    .dataframe tbody tr th:only-of-type {\n",
       "        vertical-align: middle;\n",
       "    }\n",
       "\n",
       "    .dataframe tbody tr th {\n",
       "        vertical-align: top;\n",
       "    }\n",
       "\n",
       "    .dataframe thead th {\n",
       "        text-align: right;\n",
       "    }\n",
       "</style>\n",
       "<table border=\"1\" class=\"dataframe\">\n",
       "  <thead>\n",
       "    <tr style=\"text-align: right;\">\n",
       "      <th></th>\n",
       "      <th>sports</th>\n",
       "      <th>total_medal</th>\n",
       "    </tr>\n",
       "  </thead>\n",
       "  <tbody>\n",
       "    <tr>\n",
       "      <th>38</th>\n",
       "      <td>Swimming</td>\n",
       "      <td>765</td>\n",
       "    </tr>\n",
       "    <tr>\n",
       "      <th>2</th>\n",
       "      <td>Athletics</td>\n",
       "      <td>753</td>\n",
       "    </tr>\n",
       "    <tr>\n",
       "      <th>29</th>\n",
       "      <td>Rowing</td>\n",
       "      <td>576</td>\n",
       "    </tr>\n",
       "    <tr>\n",
       "      <th>18</th>\n",
       "      <td>Football</td>\n",
       "      <td>407</td>\n",
       "    </tr>\n",
       "    <tr>\n",
       "      <th>22</th>\n",
       "      <td>Hockey</td>\n",
       "      <td>386</td>\n",
       "    </tr>\n",
       "    <tr>\n",
       "      <th>23</th>\n",
       "      <td>Ice Hockey</td>\n",
       "      <td>384</td>\n",
       "    </tr>\n",
       "    <tr>\n",
       "      <th>21</th>\n",
       "      <td>Handball</td>\n",
       "      <td>351</td>\n",
       "    </tr>\n",
       "    <tr>\n",
       "      <th>10</th>\n",
       "      <td>Canoeing</td>\n",
       "      <td>333</td>\n",
       "    </tr>\n",
       "    <tr>\n",
       "      <th>46</th>\n",
       "      <td>Waterpolo</td>\n",
       "      <td>306</td>\n",
       "    </tr>\n",
       "    <tr>\n",
       "      <th>13</th>\n",
       "      <td>Cycling</td>\n",
       "      <td>306</td>\n",
       "    </tr>\n",
       "  </tbody>\n",
       "</table>\n",
       "</div>"
      ],
      "text/plain": [
       "        sports  total_medal\n",
       "38    Swimming          765\n",
       "2    Athletics          753\n",
       "29      Rowing          576\n",
       "18    Football          407\n",
       "22      Hockey          386\n",
       "23  Ice Hockey          384\n",
       "21    Handball          351\n",
       "10    Canoeing          333\n",
       "46   Waterpolo          306\n",
       "13     Cycling          306"
      ]
     },
     "execution_count": 28,
     "metadata": {},
     "output_type": "execute_result"
    }
   ],
   "source": [
    "#creating the total number of player with most medals\n",
    "p_most_medals = olympic.groupby('sports')[['total_medal']].sum().reset_index().sort_values('total_medal',ascending=False).head(10)\n",
    "p_most_medals"
   ]
  },
  {
   "cell_type": "code",
   "execution_count": 29,
   "id": "afa902a9",
   "metadata": {},
   "outputs": [
    {
     "data": {
      "image/png": "[encoded data removed]",
      "text/plain": [
       "<Figure size 1080x504 with 1 Axes>"
      ]
     },
     "metadata": {
      "needs_background": "light"
     },
     "output_type": "display_data"
    }
   ],
   "source": [
    "plt.figure(figsize=(15,7))\n",
    "plot=sns.barplot(x='sports',y='total_medal',data=p_most_medals)\n",
    "plt.xlabel('Sports',fontsize=16)\n",
    "plt.ylabel('Total medals',fontsize=16)\n",
    "plt.title('Total medals Won in each Sports',fontsize=20)\n",
    "plt.grid()"
   ]
  },
  {
   "cell_type": "markdown",
   "id": "07a964ff",
   "metadata": {},
   "source": [
    "We can clearly see that the <b>maximum</b> medal won in <b>Swimming</b>, followed by <b>Athletics</b> and followed by <b>Rowing</b>. We can also notoce that <b> Football, Hockey and Ice hockey </b> also earned equal number of medals."
   ]
  },
  {
   "cell_type": "code",
   "execution_count": 30,
   "id": "ac3767a8",
   "metadata": {},
   "outputs": [
    {
     "data": {
      "image/png": "[encoded data removed]",
      "text/plain": [
       "<Figure size 1152x504 with 1 Axes>"
      ]
     },
     "metadata": {
      "needs_background": "light"
     },
     "output_type": "display_data"
    }
   ],
   "source": [
    "p_most_gold = olympic.groupby('sports')[['gold_medal']].sum().reset_index().sort_values('gold_medal',ascending=False).head(10)\n",
    "plt.figure(figsize=(16,7))\n",
    "plot=sns.barplot(x='sports',y='gold_medal',data=p_most_gold)\n",
    "plt.xlabel('Sports',fontsize=16)\n",
    "plt.ylabel('Total number of medals',fontsize=16)\n",
    "plt.title('Total number of gold medals won in different sports',fontsize=20)\n",
    "plt.grid()"
   ]
  },
  {
   "cell_type": "markdown",
   "id": "e933ca86",
   "metadata": {},
   "source": [
    "In terms of <b> GOLD </b> medals the data is exactly same as for the total number of medals "
   ]
  },
  {
   "cell_type": "code",
   "execution_count": 31,
   "id": "588dbb3b",
   "metadata": {
    "scrolled": false
   },
   "outputs": [
    {
     "data": {
      "image/png": "[encoded data removed]",
      "text/plain": [
       "<Figure size 1080x504 with 1 Axes>"
      ]
     },
     "metadata": {
      "needs_background": "light"
     },
     "output_type": "display_data"
    }
   ],
   "source": [
    "p_most_silver = olympic.groupby('sports')[['silver_medal']].sum().reset_index().sort_values('silver_medal',ascending=False).head(10)\n",
    "plt.figure(figsize=(15,7))\n",
    "plot=sns.barplot(x='sports',y='silver_medal',data=p_most_silver)\n",
    "plt.xlabel('Sports',fontsize=16)\n",
    "plt.ylabel('No of medals',fontsize=16)\n",
    "plt.title('Number of Silver medal won in different sports',fontsize=20)\n",
    "plt.grid()"
   ]
  },
  {
   "cell_type": "markdown",
   "id": "9fc9dd4f",
   "metadata": {},
   "source": [
    "In <b>SILVER</b> medals graph we can clearly see that there is a slight change in the position of sports and we can see noe that<b> Athletics </b> won more silver medal than <b>Swimming</b>, However the difference is not much.  "
   ]
  },
  {
   "cell_type": "code",
   "execution_count": 32,
   "id": "74025758",
   "metadata": {},
   "outputs": [
    {
     "data": {
      "image/png": "[encoded data removed]",
      "text/plain": [
       "<Figure size 1080x504 with 1 Axes>"
      ]
     },
     "metadata": {
      "needs_background": "light"
     },
     "output_type": "display_data"
    }
   ],
   "source": [
    "p_most_bronze=olympic.groupby('sports')[['brone_medal']].sum().reset_index().sort_values('brone_medal',ascending=False).head(10)\n",
    "plt.figure(figsize=(15,7))\n",
    "plot=sns.barplot(x='sports',y='brone_medal',data=p_most_bronze)\n",
    "plt.xlabel('Sports',fontsize=16)\n",
    "plt.ylabel('Number of medal',fontsize=16)\n",
    "plt.title('Bronze medals in a sports',fontsize=20)\n",
    "plt.grid()"
   ]
  },
  {
   "cell_type": "markdown",
   "id": "083d368d",
   "metadata": {},
   "source": [
    "In the graph we can see that <b>Athletics</b> won the maximum number of bronze medals followed by <b> Swimming and Racing</b>."
   ]
  },
  {
   "cell_type": "markdown",
   "id": "40c6b9f6",
   "metadata": {},
   "source": [
    "## Number of participant in each Sports"
   ]
  },
  {
   "cell_type": "code",
   "execution_count": 33,
   "id": "c31ee5d4",
   "metadata": {},
   "outputs": [
    {
     "data": {
      "image/png": "[encoded data removed]",
      "text/plain": [
       "<Figure size 1080x432 with 1 Axes>"
      ]
     },
     "metadata": {
      "needs_background": "light"
     },
     "output_type": "display_data"
    }
   ],
   "source": [
    "n_part_sports = olympic.drop_duplicates('name').groupby('sports')[['name']].count().reset_index().sort_values('name',ascending=False).head(10)\n",
    "plt.figure(figsize=(15,6))\n",
    "plot=sns.barplot(x='sports',y='name',data=n_part_sports)\n",
    "plt.xlabel('Sports',fontsize=16)\n",
    "plt.ylabel('Number of participant',fontsize=16)\n",
    "plt.title('Number of participant in each sports',fontsize=20)\n",
    "plt.grid()"
   ]
  },
  {
   "cell_type": "markdown",
   "id": "27f98f70",
   "metadata": {},
   "source": [
    "The maximum number of participant that took part is from <b> Athletics </b>, followed by <b>Rowing and Swimming</b>."
   ]
  },
  {
   "cell_type": "markdown",
   "id": "6d284b95",
   "metadata": {},
   "source": [
    "## Top 20 players who won maximum mex from their respective countries"
   ]
  },
  {
   "cell_type": "code",
   "execution_count": 34,
   "id": "63e39a44",
   "metadata": {},
   "outputs": [
    {
     "data": {
      "text/html": [
       "<div>\n",
       "<style scoped>\n",
       "    .dataframe tbody tr th:only-of-type {\n",
       "        vertical-align: middle;\n",
       "    }\n",
       "\n",
       "    .dataframe tbody tr th {\n",
       "        vertical-align: top;\n",
       "    }\n",
       "\n",
       "    .dataframe thead th {\n",
       "        text-align: right;\n",
       "    }\n",
       "</style>\n",
       "<table border=\"1\" class=\"dataframe\">\n",
       "  <thead>\n",
       "    <tr style=\"text-align: right;\">\n",
       "      <th></th>\n",
       "      <th>name</th>\n",
       "      <th>total_medal</th>\n",
       "      <th>country</th>\n",
       "      <th>sports</th>\n",
       "    </tr>\n",
       "  </thead>\n",
       "  <tbody>\n",
       "    <tr>\n",
       "      <th>0</th>\n",
       "      <td>Michael Phelps</td>\n",
       "      <td>22</td>\n",
       "      <td>United States</td>\n",
       "      <td>Swimming</td>\n",
       "    </tr>\n",
       "    <tr>\n",
       "      <th>1</th>\n",
       "      <td>Natalie Coughlin</td>\n",
       "      <td>12</td>\n",
       "      <td>United States</td>\n",
       "      <td>Swimming</td>\n",
       "    </tr>\n",
       "    <tr>\n",
       "      <th>2</th>\n",
       "      <td>Ryan Lochte</td>\n",
       "      <td>11</td>\n",
       "      <td>United States</td>\n",
       "      <td>Swimming</td>\n",
       "    </tr>\n",
       "    <tr>\n",
       "      <th>3</th>\n",
       "      <td>Ian Thorpe</td>\n",
       "      <td>9</td>\n",
       "      <td>Australia</td>\n",
       "      <td>Swimming</td>\n",
       "    </tr>\n",
       "    <tr>\n",
       "      <th>4</th>\n",
       "      <td>Ole Einar Bj rndalen</td>\n",
       "      <td>9</td>\n",
       "      <td>Norway</td>\n",
       "      <td>Biathlon</td>\n",
       "    </tr>\n",
       "    <tr>\n",
       "      <th>5</th>\n",
       "      <td>Leisel Jones</td>\n",
       "      <td>9</td>\n",
       "      <td>Australia</td>\n",
       "      <td>Swimming</td>\n",
       "    </tr>\n",
       "    <tr>\n",
       "      <th>6</th>\n",
       "      <td>Jason Lezak</td>\n",
       "      <td>8</td>\n",
       "      <td>United States</td>\n",
       "      <td>Swimming</td>\n",
       "    </tr>\n",
       "    <tr>\n",
       "      <th>7</th>\n",
       "      <td>Apolo Anton Ohno</td>\n",
       "      <td>8</td>\n",
       "      <td>United States</td>\n",
       "      <td>Short-Track Speed Skating</td>\n",
       "    </tr>\n",
       "    <tr>\n",
       "      <th>8</th>\n",
       "      <td>Inge de Bruijn</td>\n",
       "      <td>8</td>\n",
       "      <td>Netherlands</td>\n",
       "      <td>Swimming</td>\n",
       "    </tr>\n",
       "    <tr>\n",
       "      <th>9</th>\n",
       "      <td>Katalin Kov cs</td>\n",
       "      <td>8</td>\n",
       "      <td>Hungary</td>\n",
       "      <td>Canoeing</td>\n",
       "    </tr>\n",
       "    <tr>\n",
       "      <th>10</th>\n",
       "      <td>Dara Torres</td>\n",
       "      <td>8</td>\n",
       "      <td>United States</td>\n",
       "      <td>Swimming</td>\n",
       "    </tr>\n",
       "    <tr>\n",
       "      <th>11</th>\n",
       "      <td>Kosuke Kitajima</td>\n",
       "      <td>7</td>\n",
       "      <td>Japan</td>\n",
       "      <td>Swimming</td>\n",
       "    </tr>\n",
       "    <tr>\n",
       "      <th>12</th>\n",
       "      <td>Aaron Peirsol</td>\n",
       "      <td>7</td>\n",
       "      <td>United States</td>\n",
       "      <td>Swimming</td>\n",
       "    </tr>\n",
       "    <tr>\n",
       "      <th>13</th>\n",
       "      <td>Libby Lenton Trickett</td>\n",
       "      <td>7</td>\n",
       "      <td>Australia</td>\n",
       "      <td>Swimming</td>\n",
       "    </tr>\n",
       "    <tr>\n",
       "      <th>14</th>\n",
       "      <td>Grant Hackett</td>\n",
       "      <td>7</td>\n",
       "      <td>Australia</td>\n",
       "      <td>Swimming</td>\n",
       "    </tr>\n",
       "    <tr>\n",
       "      <th>15</th>\n",
       "      <td>Marit Bj rgen</td>\n",
       "      <td>7</td>\n",
       "      <td>Norway</td>\n",
       "      <td>Cross Country Skiing</td>\n",
       "    </tr>\n",
       "    <tr>\n",
       "      <th>16</th>\n",
       "      <td>Kati Wilhelm</td>\n",
       "      <td>7</td>\n",
       "      <td>Germany</td>\n",
       "      <td>Biathlon</td>\n",
       "    </tr>\n",
       "    <tr>\n",
       "      <th>17</th>\n",
       "      <td>Kirsty Coventry</td>\n",
       "      <td>7</td>\n",
       "      <td>Zimbabwe</td>\n",
       "      <td>Swimming</td>\n",
       "    </tr>\n",
       "    <tr>\n",
       "      <th>18</th>\n",
       "      <td>Felix Gottwald</td>\n",
       "      <td>7</td>\n",
       "      <td>Austria</td>\n",
       "      <td>Nordic Combined</td>\n",
       "    </tr>\n",
       "    <tr>\n",
       "      <th>19</th>\n",
       "      <td>Yang Wei</td>\n",
       "      <td>7</td>\n",
       "      <td>China</td>\n",
       "      <td>Gymnastics</td>\n",
       "    </tr>\n",
       "  </tbody>\n",
       "</table>\n",
       "</div>"
      ],
      "text/plain": [
       "                     name  total_medal        country  \\\n",
       "0          Michael Phelps           22  United States   \n",
       "1        Natalie Coughlin           12  United States   \n",
       "2             Ryan Lochte           11  United States   \n",
       "3              Ian Thorpe            9      Australia   \n",
       "4    Ole Einar Bj rndalen            9         Norway   \n",
       "5            Leisel Jones            9      Australia   \n",
       "6             Jason Lezak            8  United States   \n",
       "7        Apolo Anton Ohno            8  United States   \n",
       "8          Inge de Bruijn            8    Netherlands   \n",
       "9          Katalin Kov cs            8        Hungary   \n",
       "10            Dara Torres            8  United States   \n",
       "11        Kosuke Kitajima            7          Japan   \n",
       "12          Aaron Peirsol            7  United States   \n",
       "13  Libby Lenton Trickett            7      Australia   \n",
       "14          Grant Hackett            7      Australia   \n",
       "15          Marit Bj rgen            7         Norway   \n",
       "16           Kati Wilhelm            7        Germany   \n",
       "17        Kirsty Coventry            7       Zimbabwe   \n",
       "18         Felix Gottwald            7        Austria   \n",
       "19               Yang Wei            7          China   \n",
       "\n",
       "                       sports  \n",
       "0                    Swimming  \n",
       "1                    Swimming  \n",
       "2                    Swimming  \n",
       "3                    Swimming  \n",
       "4                    Biathlon  \n",
       "5                    Swimming  \n",
       "6                    Swimming  \n",
       "7   Short-Track Speed Skating  \n",
       "8                    Swimming  \n",
       "9                    Canoeing  \n",
       "10                   Swimming  \n",
       "11                   Swimming  \n",
       "12                   Swimming  \n",
       "13                   Swimming  \n",
       "14                   Swimming  \n",
       "15       Cross Country Skiing  \n",
       "16                   Biathlon  \n",
       "17                   Swimming  \n",
       "18            Nordic Combined  \n",
       "19                 Gymnastics  "
      ]
     },
     "execution_count": 34,
     "metadata": {},
     "output_type": "execute_result"
    }
   ],
   "source": [
    "top_players=olympic.groupby(['name'])[['total_medal']].sum().reset_index().sort_values('total_medal',ascending=False).head(20)\n",
    "\n",
    "add_col=olympic.drop_duplicates('name')[['name','country','sports']]\n",
    "top_tplayers=top_players.merge(add_col,on='name',how='left')\n",
    "top_tplayers"
   ]
  },
  {
   "cell_type": "code",
   "execution_count": 35,
   "id": "87eee83b",
   "metadata": {},
   "outputs": [
    {
     "data": {
      "image/png": "[encoded data removed]",
      "text/plain": [
       "<Figure size 1080x432 with 1 Axes>"
      ]
     },
     "metadata": {
      "needs_background": "light"
     },
     "output_type": "display_data"
    }
   ],
   "source": [
    "fig,ax=plt.subplots(figsize=(15,6))\n",
    "plot=sns.barplot(x='name',y='total_medal',data=top_tplayers,hue='country',dodge=False,ax=ax)\n",
    "plt.xlabel('Players Name',fontsize=16)\n",
    "plt.ylabel('Number of medals won',fontsize=16)\n",
    "plt.title('Top 20 players to Won medals ',fontsize=20)\n",
    "ax.set_xticklabels(ax.get_xticklabels(), rotation=30)\n",
    "plt.grid()"
   ]
  },
  {
   "cell_type": "markdown",
   "id": "a8ad6658",
   "metadata": {},
   "source": [
    "From the Graph it is very much clear that <b> Michael Phelps of USA</b> have won the meximum medals. Infact the <b> top 3 players </b> is from <b> USA</b>. "
   ]
  },
  {
   "cell_type": "markdown",
   "id": "86564ca3",
   "metadata": {},
   "source": [
    "## Top 5 Popular Sports"
   ]
  },
  {
   "cell_type": "code",
   "execution_count": 36,
   "id": "177f0a05",
   "metadata": {},
   "outputs": [
    {
     "data": {
      "image/png": "[encoded data removed]",
      "text/plain": [
       "<Figure size 1080x432 with 1 Axes>"
      ]
     },
     "metadata": {
      "needs_background": "light"
     },
     "output_type": "display_data"
    }
   ],
   "source": [
    "t_5=olympic.groupby('sports')['name'].count().reset_index().sort_values('name',ascending=False).head(5)\n",
    "plt.figure(figsize=(15,6))\n",
    "plot=sns.barplot(x='sports',y='name',data=t_5)\n",
    "plt.xlabel('Sports',fontsize=16)\n",
    "plt.ylabel('Total Players',fontsize=16)\n",
    "plt.title(\"Top 5 Popular Sports\",fontsize=20)\n",
    "plt.grid()"
   ]
  },
  {
   "cell_type": "markdown",
   "id": "6b19a1e9",
   "metadata": {},
   "source": [
    "From the graph above we can easily tell that <b>Athelitic </b>is the mosty famous sports among participant followed by Rowing. It is also important to know that <b>Hockey and football</b> have very little difference."
   ]
  },
  {
   "cell_type": "markdown",
   "id": "b57671ce",
   "metadata": {},
   "source": [
    "## Number of participant participated in each year"
   ]
  },
  {
   "cell_type": "code",
   "execution_count": 37,
   "id": "0c973343",
   "metadata": {
    "scrolled": false
   },
   "outputs": [
    {
     "data": {
      "image/png": "[encoded data removed]",
      "text/plain": [
       "<Figure size 1080x432 with 1 Axes>"
      ]
     },
     "metadata": {
      "needs_background": "light"
     },
     "output_type": "display_data"
    }
   ],
   "source": [
    "no_p=olympic.groupby('year')['name'].count().reset_index().sort_values('year',ascending=False)\n",
    "plt.figure(figsize=(15,6))\n",
    "plot=sns.lineplot(x='year',y='name',data=no_p)\n",
    "plt.xlabel('Year',fontsize=16)\n",
    "plt.ylabel('Number of participant participated',fontsize=16)\n",
    "plt.title('Number of participant participated from 2000-2012')\n",
    "plt.grid()"
   ]
  },
  {
   "cell_type": "markdown",
   "id": "f23350e8",
   "metadata": {},
   "source": [
    "The maximum number of participation is during the year of 2008 and the least participant least participated in the year of 2002"
   ]
  },
  {
   "cell_type": "markdown",
   "id": "4511b6b1",
   "metadata": {},
   "source": [
    "## Number of Countries Participated"
   ]
  },
  {
   "cell_type": "code",
   "execution_count": 38,
   "id": "6290a4ee",
   "metadata": {},
   "outputs": [
    {
     "data": {
      "image/png": "[encoded data removed]",
      "text/plain": [
       "<Figure size 1080x432 with 1 Axes>"
      ]
     },
     "metadata": {
      "needs_background": "light"
     },
     "output_type": "display_data"
    }
   ],
   "source": [
    "no_c = olympic.drop_duplicates(['country','year']).groupby('year')['country'].count().reset_index().sort_values('country',ascending=False)\n",
    "plt.figure(figsize=(15,6))\n",
    "plot=sns.lineplot(x='year',y='country',data=no_c)\n",
    "plt.xlabel('Year',fontsize=16)\n",
    "plt.ylabel('Number of participant',fontsize=16)\n",
    "plt.title('Number of countries participated',fontsize=20)\n",
    "plt.grid()"
   ]
  },
  {
   "cell_type": "markdown",
   "id": "717a4e04",
   "metadata": {},
   "source": [
    "From the data it is very much clear that Maximum of number of participation is during <b>2008 and 2021</b>.  "
   ]
  },
  {
   "cell_type": "markdown",
   "id": "36907cd7",
   "metadata": {},
   "source": [
    "## For age"
   ]
  },
  {
   "cell_type": "code",
   "execution_count": 39,
   "id": "6740ef00",
   "metadata": {},
   "outputs": [
    {
     "data": {
      "text/plain": [
       "0.8590070668484233"
      ]
     },
     "execution_count": 39,
     "metadata": {},
     "output_type": "execute_result"
    }
   ],
   "source": [
    "olympic['age'].skew()"
   ]
  },
  {
   "cell_type": "markdown",
   "id": "933e266a",
   "metadata": {},
   "source": [
    "The value is greater than 0 thus we have to fix it"
   ]
  },
  {
   "cell_type": "code",
   "execution_count": 40,
   "id": "195d8e78",
   "metadata": {},
   "outputs": [
    {
     "data": {
      "text/plain": [
       "<seaborn.axisgrid.FacetGrid at 0x23b80f2bbb0>"
      ]
     },
     "execution_count": 40,
     "metadata": {},
     "output_type": "execute_result"
    },
    {
     "data": {
      "text/plain": [
       "<Figure size 1080x432 with 0 Axes>"
      ]
     },
     "metadata": {},
     "output_type": "display_data"
    },
    {
     "data": {
      "image/png": "[encoded data removed]",
      "text/plain": [
       "<Figure size 360x360 with 1 Axes>"
      ]
     },
     "metadata": {
      "needs_background": "light"
     },
     "output_type": "display_data"
    }
   ],
   "source": [
    "plt.figure(figsize=(15,6))\n",
    "sns.displot(olympic['age'])"
   ]
  },
  {
   "cell_type": "code",
   "execution_count": 41,
   "id": "514aa356",
   "metadata": {},
   "outputs": [
    {
     "name": "stderr",
     "output_type": "stream",
     "text": [
      "E:\\jupyter\\lib\\site-packages\\seaborn\\_decorators.py:36: FutureWarning: Pass the following variable as a keyword arg: x. From version 0.12, the only valid positional argument will be `data`, and passing other arguments without an explicit keyword will result in an error or misinterpretation.\n",
      "  warnings.warn(\n"
     ]
    },
    {
     "data": {
      "text/plain": [
       "<AxesSubplot:xlabel='age'>"
      ]
     },
     "execution_count": 41,
     "metadata": {},
     "output_type": "execute_result"
    },
    {
     "data": {
      "image/png": "[encoded data removed]",
      "text/plain": [
       "<Figure size 432x288 with 1 Axes>"
      ]
     },
     "metadata": {
      "needs_background": "light"
     },
     "output_type": "display_data"
    }
   ],
   "source": [
    "sns.boxplot(olympic['age'])"
   ]
  },
  {
   "cell_type": "code",
   "execution_count": 42,
   "id": "d06290cc",
   "metadata": {},
   "outputs": [
    {
     "data": {
      "text/plain": [
       "0.1548420625269884"
      ]
     },
     "execution_count": 42,
     "metadata": {},
     "output_type": "execute_result"
    }
   ],
   "source": [
    "olympic['age_log']=np.log(olympic['age'])\n",
    "olympic['age_log'].skew()"
   ]
  },
  {
   "cell_type": "markdown",
   "id": "413b5fd9",
   "metadata": {},
   "source": [
    "Now the value is rightly skewed and value is less than 0.5"
   ]
  },
  {
   "cell_type": "code",
   "execution_count": 43,
   "id": "f8a80afb",
   "metadata": {},
   "outputs": [
    {
     "data": {
      "text/plain": [
       "<seaborn.axisgrid.FacetGrid at 0x23b80e4c7f0>"
      ]
     },
     "execution_count": 43,
     "metadata": {},
     "output_type": "execute_result"
    },
    {
     "data": {
      "image/png": "[encoded data removed]",
      "text/plain": [
       "<Figure size 360x360 with 1 Axes>"
      ]
     },
     "metadata": {
      "needs_background": "light"
     },
     "output_type": "display_data"
    }
   ],
   "source": [
    "sns.displot(olympic['age_log'])"
   ]
  },
  {
   "cell_type": "markdown",
   "id": "f26cefeb",
   "metadata": {},
   "source": [
    "## Perform test on numerical the dataset \n",
    "### Numerical Value "
   ]
  },
  {
   "cell_type": "code",
   "execution_count": 44,
   "id": "595e7315",
   "metadata": {},
   "outputs": [
    {
     "data": {
      "text/html": [
       "<div>\n",
       "<style scoped>\n",
       "    .dataframe tbody tr th:only-of-type {\n",
       "        vertical-align: middle;\n",
       "    }\n",
       "\n",
       "    .dataframe tbody tr th {\n",
       "        vertical-align: top;\n",
       "    }\n",
       "\n",
       "    .dataframe thead th {\n",
       "        text-align: right;\n",
       "    }\n",
       "</style>\n",
       "<table border=\"1\" class=\"dataframe\">\n",
       "  <thead>\n",
       "    <tr style=\"text-align: right;\">\n",
       "      <th></th>\n",
       "      <th>age</th>\n",
       "      <th>year</th>\n",
       "      <th>gold_medal</th>\n",
       "      <th>silver_medal</th>\n",
       "      <th>brone_medal</th>\n",
       "      <th>total_medal</th>\n",
       "      <th>age_log</th>\n",
       "    </tr>\n",
       "  </thead>\n",
       "  <tbody>\n",
       "    <tr>\n",
       "      <th>count</th>\n",
       "      <td>8613.000000</td>\n",
       "      <td>8613.000000</td>\n",
       "      <td>8613.000000</td>\n",
       "      <td>8613.000000</td>\n",
       "      <td>8613.000000</td>\n",
       "      <td>8613.000000</td>\n",
       "      <td>8613.000000</td>\n",
       "    </tr>\n",
       "    <tr>\n",
       "      <th>mean</th>\n",
       "      <td>26.405434</td>\n",
       "      <td>2005.975386</td>\n",
       "      <td>0.364914</td>\n",
       "      <td>0.362940</td>\n",
       "      <td>0.377917</td>\n",
       "      <td>1.105770</td>\n",
       "      <td>3.255700</td>\n",
       "    </tr>\n",
       "    <tr>\n",
       "      <th>std</th>\n",
       "      <td>5.102118</td>\n",
       "      <td>4.288737</td>\n",
       "      <td>0.545436</td>\n",
       "      <td>0.511531</td>\n",
       "      <td>0.505069</td>\n",
       "      <td>0.409003</td>\n",
       "      <td>0.188060</td>\n",
       "    </tr>\n",
       "    <tr>\n",
       "      <th>min</th>\n",
       "      <td>15.000000</td>\n",
       "      <td>2000.000000</td>\n",
       "      <td>0.000000</td>\n",
       "      <td>0.000000</td>\n",
       "      <td>0.000000</td>\n",
       "      <td>1.000000</td>\n",
       "      <td>2.708050</td>\n",
       "    </tr>\n",
       "    <tr>\n",
       "      <th>25%</th>\n",
       "      <td>23.000000</td>\n",
       "      <td>2002.000000</td>\n",
       "      <td>0.000000</td>\n",
       "      <td>0.000000</td>\n",
       "      <td>0.000000</td>\n",
       "      <td>1.000000</td>\n",
       "      <td>3.135494</td>\n",
       "    </tr>\n",
       "    <tr>\n",
       "      <th>50%</th>\n",
       "      <td>26.000000</td>\n",
       "      <td>2006.000000</td>\n",
       "      <td>0.000000</td>\n",
       "      <td>0.000000</td>\n",
       "      <td>0.000000</td>\n",
       "      <td>1.000000</td>\n",
       "      <td>3.258097</td>\n",
       "    </tr>\n",
       "    <tr>\n",
       "      <th>75%</th>\n",
       "      <td>29.000000</td>\n",
       "      <td>2010.000000</td>\n",
       "      <td>1.000000</td>\n",
       "      <td>1.000000</td>\n",
       "      <td>1.000000</td>\n",
       "      <td>1.000000</td>\n",
       "      <td>3.367296</td>\n",
       "    </tr>\n",
       "    <tr>\n",
       "      <th>max</th>\n",
       "      <td>61.000000</td>\n",
       "      <td>2012.000000</td>\n",
       "      <td>8.000000</td>\n",
       "      <td>3.000000</td>\n",
       "      <td>3.000000</td>\n",
       "      <td>8.000000</td>\n",
       "      <td>4.110874</td>\n",
       "    </tr>\n",
       "  </tbody>\n",
       "</table>\n",
       "</div>"
      ],
      "text/plain": [
       "               age         year   gold_medal  silver_medal  brone_medal  \\\n",
       "count  8613.000000  8613.000000  8613.000000   8613.000000  8613.000000   \n",
       "mean     26.405434  2005.975386     0.364914      0.362940     0.377917   \n",
       "std       5.102118     4.288737     0.545436      0.511531     0.505069   \n",
       "min      15.000000  2000.000000     0.000000      0.000000     0.000000   \n",
       "25%      23.000000  2002.000000     0.000000      0.000000     0.000000   \n",
       "50%      26.000000  2006.000000     0.000000      0.000000     0.000000   \n",
       "75%      29.000000  2010.000000     1.000000      1.000000     1.000000   \n",
       "max      61.000000  2012.000000     8.000000      3.000000     3.000000   \n",
       "\n",
       "       total_medal      age_log  \n",
       "count  8613.000000  8613.000000  \n",
       "mean      1.105770     3.255700  \n",
       "std       0.409003     0.188060  \n",
       "min       1.000000     2.708050  \n",
       "25%       1.000000     3.135494  \n",
       "50%       1.000000     3.258097  \n",
       "75%       1.000000     3.367296  \n",
       "max       8.000000     4.110874  "
      ]
     },
     "execution_count": 44,
     "metadata": {},
     "output_type": "execute_result"
    }
   ],
   "source": [
    "olympic.describe()"
   ]
  },
  {
   "cell_type": "markdown",
   "id": "41717181",
   "metadata": {},
   "source": [
    "**Statical evaluation**\n",
    "* Age\n",
    "        Total count is 8613\n",
    "        mean age is 26.4\n",
    "        maximum age is 61\n",
    "        minimum age is 15\n",
    "* Year\n",
    "        mean year is 2005\n",
    "        maximum year is 2012\n",
    "        minimum year is 2000\n",
    "* gold medal \n",
    "        mean value is 0.36\n",
    "        maximum gold medal won is 8\n",
    "        minimum gold medal won is 0\n",
    "* silver medal\n",
    "        mean silver medal is 0.36\n",
    "        maximum silver medal won is 3\n",
    "        minimum silver medal won is 0\n",
    "* bronze medal \n",
    "        mean value is 0.37\n",
    "        maximum bronze medal won is 3\n",
    "        minimum bronze medal won is 0\n",
    "* total medal \n",
    "        mean value is 1.01\n",
    "        minimum total medal is 1\n",
    "        maximum total medal is 8"
   ]
  },
  {
   "cell_type": "markdown",
   "id": "b1b9ff80",
   "metadata": {},
   "source": [
    "## About categorical value"
   ]
  },
  {
   "cell_type": "code",
   "execution_count": 45,
   "id": "bd0e6297",
   "metadata": {},
   "outputs": [
    {
     "data": {
      "text/html": [
       "<div>\n",
       "<style scoped>\n",
       "    .dataframe tbody tr th:only-of-type {\n",
       "        vertical-align: middle;\n",
       "    }\n",
       "\n",
       "    .dataframe tbody tr th {\n",
       "        vertical-align: top;\n",
       "    }\n",
       "\n",
       "    .dataframe thead th {\n",
       "        text-align: right;\n",
       "    }\n",
       "</style>\n",
       "<table border=\"1\" class=\"dataframe\">\n",
       "  <thead>\n",
       "    <tr style=\"text-align: right;\">\n",
       "      <th></th>\n",
       "      <th>name</th>\n",
       "      <th>country</th>\n",
       "      <th>Date_Given</th>\n",
       "      <th>sports</th>\n",
       "    </tr>\n",
       "  </thead>\n",
       "  <tbody>\n",
       "    <tr>\n",
       "      <th>count</th>\n",
       "      <td>8613</td>\n",
       "      <td>8613</td>\n",
       "      <td>8613</td>\n",
       "      <td>8613</td>\n",
       "    </tr>\n",
       "    <tr>\n",
       "      <th>unique</th>\n",
       "      <td>6955</td>\n",
       "      <td>110</td>\n",
       "      <td>7</td>\n",
       "      <td>49</td>\n",
       "    </tr>\n",
       "    <tr>\n",
       "      <th>top</th>\n",
       "      <td>Matt Wells</td>\n",
       "      <td>United States</td>\n",
       "      <td>8/24/2008</td>\n",
       "      <td>Athletics</td>\n",
       "    </tr>\n",
       "    <tr>\n",
       "      <th>freq</th>\n",
       "      <td>4</td>\n",
       "      <td>1109</td>\n",
       "      <td>1872</td>\n",
       "      <td>687</td>\n",
       "    </tr>\n",
       "  </tbody>\n",
       "</table>\n",
       "</div>"
      ],
      "text/plain": [
       "              name        country Date_Given     sports\n",
       "count         8613           8613       8613       8613\n",
       "unique        6955            110          7         49\n",
       "top     Matt Wells  United States  8/24/2008  Athletics\n",
       "freq             4           1109       1872        687"
      ]
     },
     "execution_count": 45,
     "metadata": {},
     "output_type": "execute_result"
    }
   ],
   "source": [
    "olympic.describe(include=object)"
   ]
  },
  {
   "cell_type": "markdown",
   "id": "3d2c908a",
   "metadata": {},
   "source": [
    "## Total medals won by countries \n",
    "### Gold medal"
   ]
  },
  {
   "cell_type": "code",
   "execution_count": 46,
   "id": "cfcc4bd7",
   "metadata": {},
   "outputs": [
    {
     "data": {
      "text/html": [
       "<div>\n",
       "<style scoped>\n",
       "    .dataframe tbody tr th:only-of-type {\n",
       "        vertical-align: middle;\n",
       "    }\n",
       "\n",
       "    .dataframe tbody tr th {\n",
       "        vertical-align: top;\n",
       "    }\n",
       "\n",
       "    .dataframe thead th {\n",
       "        text-align: right;\n",
       "    }\n",
       "</style>\n",
       "<table border=\"1\" class=\"dataframe\">\n",
       "  <thead>\n",
       "    <tr style=\"text-align: right;\">\n",
       "      <th></th>\n",
       "      <th>gold_medal</th>\n",
       "    </tr>\n",
       "    <tr>\n",
       "      <th>country</th>\n",
       "      <th></th>\n",
       "    </tr>\n",
       "  </thead>\n",
       "  <tbody>\n",
       "    <tr>\n",
       "      <th>United States</th>\n",
       "      <td>552</td>\n",
       "    </tr>\n",
       "    <tr>\n",
       "      <th>Russia</th>\n",
       "      <td>234</td>\n",
       "    </tr>\n",
       "    <tr>\n",
       "      <th>China</th>\n",
       "      <td>234</td>\n",
       "    </tr>\n",
       "    <tr>\n",
       "      <th>Germany</th>\n",
       "      <td>223</td>\n",
       "    </tr>\n",
       "    <tr>\n",
       "      <th>Canada</th>\n",
       "      <td>168</td>\n",
       "    </tr>\n",
       "    <tr>\n",
       "      <th>Australia</th>\n",
       "      <td>163</td>\n",
       "    </tr>\n",
       "    <tr>\n",
       "      <th>Great Britain</th>\n",
       "      <td>124</td>\n",
       "    </tr>\n",
       "    <tr>\n",
       "      <th>South Korea</th>\n",
       "      <td>110</td>\n",
       "    </tr>\n",
       "    <tr>\n",
       "      <th>France</th>\n",
       "      <td>108</td>\n",
       "    </tr>\n",
       "    <tr>\n",
       "      <th>Netherlands</th>\n",
       "      <td>101</td>\n",
       "    </tr>\n",
       "  </tbody>\n",
       "</table>\n",
       "</div>"
      ],
      "text/plain": [
       "               gold_medal\n",
       "country                  \n",
       "United States         552\n",
       "Russia                234\n",
       "China                 234\n",
       "Germany               223\n",
       "Canada                168\n",
       "Australia             163\n",
       "Great Britain         124\n",
       "South Korea           110\n",
       "France                108\n",
       "Netherlands           101"
      ]
     },
     "execution_count": 46,
     "metadata": {},
     "output_type": "execute_result"
    }
   ],
   "source": [
    "most_gmedals.head(10)"
   ]
  },
  {
   "cell_type": "markdown",
   "id": "5a555577",
   "metadata": {},
   "source": [
    "### Silver Medals"
   ]
  },
  {
   "cell_type": "code",
   "execution_count": 47,
   "id": "d71f62c7",
   "metadata": {},
   "outputs": [
    {
     "data": {
      "text/html": [
       "<div>\n",
       "<style scoped>\n",
       "    .dataframe tbody tr th:only-of-type {\n",
       "        vertical-align: middle;\n",
       "    }\n",
       "\n",
       "    .dataframe tbody tr th {\n",
       "        vertical-align: top;\n",
       "    }\n",
       "\n",
       "    .dataframe thead th {\n",
       "        text-align: right;\n",
       "    }\n",
       "</style>\n",
       "<table border=\"1\" class=\"dataframe\">\n",
       "  <thead>\n",
       "    <tr style=\"text-align: right;\">\n",
       "      <th></th>\n",
       "      <th>silver_medal</th>\n",
       "    </tr>\n",
       "    <tr>\n",
       "      <th>country</th>\n",
       "      <th></th>\n",
       "    </tr>\n",
       "  </thead>\n",
       "  <tbody>\n",
       "    <tr>\n",
       "      <th>United States</th>\n",
       "      <td>440</td>\n",
       "    </tr>\n",
       "    <tr>\n",
       "      <th>Australia</th>\n",
       "      <td>226</td>\n",
       "    </tr>\n",
       "    <tr>\n",
       "      <th>Russia</th>\n",
       "      <td>221</td>\n",
       "    </tr>\n",
       "    <tr>\n",
       "      <th>Germany</th>\n",
       "      <td>183</td>\n",
       "    </tr>\n",
       "    <tr>\n",
       "      <th>China</th>\n",
       "      <td>156</td>\n",
       "    </tr>\n",
       "    <tr>\n",
       "      <th>Netherlands</th>\n",
       "      <td>135</td>\n",
       "    </tr>\n",
       "    <tr>\n",
       "      <th>Spain</th>\n",
       "      <td>116</td>\n",
       "    </tr>\n",
       "    <tr>\n",
       "      <th>Japan</th>\n",
       "      <td>112</td>\n",
       "    </tr>\n",
       "    <tr>\n",
       "      <th>France</th>\n",
       "      <td>107</td>\n",
       "    </tr>\n",
       "    <tr>\n",
       "      <th>Italy</th>\n",
       "      <td>103</td>\n",
       "    </tr>\n",
       "  </tbody>\n",
       "</table>\n",
       "</div>"
      ],
      "text/plain": [
       "               silver_medal\n",
       "country                    \n",
       "United States           440\n",
       "Australia               226\n",
       "Russia                  221\n",
       "Germany                 183\n",
       "China                   156\n",
       "Netherlands             135\n",
       "Spain                   116\n",
       "Japan                   112\n",
       "France                  107\n",
       "Italy                   103"
      ]
     },
     "execution_count": 47,
     "metadata": {},
     "output_type": "execute_result"
    }
   ],
   "source": [
    "most_smedals"
   ]
  },
  {
   "cell_type": "markdown",
   "id": "78f9fa5e",
   "metadata": {},
   "source": [
    "### Bronze Medals"
   ]
  },
  {
   "cell_type": "code",
   "execution_count": 48,
   "id": "5e61c5de",
   "metadata": {},
   "outputs": [
    {
     "data": {
      "text/html": [
       "<div>\n",
       "<style scoped>\n",
       "    .dataframe tbody tr th:only-of-type {\n",
       "        vertical-align: middle;\n",
       "    }\n",
       "\n",
       "    .dataframe tbody tr th {\n",
       "        vertical-align: top;\n",
       "    }\n",
       "\n",
       "    .dataframe thead th {\n",
       "        text-align: right;\n",
       "    }\n",
       "</style>\n",
       "<table border=\"1\" class=\"dataframe\">\n",
       "  <thead>\n",
       "    <tr style=\"text-align: right;\">\n",
       "      <th></th>\n",
       "      <th>brone_medal</th>\n",
       "    </tr>\n",
       "    <tr>\n",
       "      <th>country</th>\n",
       "      <th></th>\n",
       "    </tr>\n",
       "  </thead>\n",
       "  <tbody>\n",
       "    <tr>\n",
       "      <th>United States</th>\n",
       "      <td>320</td>\n",
       "    </tr>\n",
       "    <tr>\n",
       "      <th>Russia</th>\n",
       "      <td>313</td>\n",
       "    </tr>\n",
       "    <tr>\n",
       "      <th>Germany</th>\n",
       "      <td>223</td>\n",
       "    </tr>\n",
       "    <tr>\n",
       "      <th>Australia</th>\n",
       "      <td>220</td>\n",
       "    </tr>\n",
       "    <tr>\n",
       "      <th>Italy</th>\n",
       "      <td>142</td>\n",
       "    </tr>\n",
       "    <tr>\n",
       "      <th>China</th>\n",
       "      <td>140</td>\n",
       "    </tr>\n",
       "    <tr>\n",
       "      <th>Japan</th>\n",
       "      <td>113</td>\n",
       "    </tr>\n",
       "    <tr>\n",
       "      <th>South Korea</th>\n",
       "      <td>105</td>\n",
       "    </tr>\n",
       "    <tr>\n",
       "      <th>Canada</th>\n",
       "      <td>104</td>\n",
       "    </tr>\n",
       "    <tr>\n",
       "      <th>France</th>\n",
       "      <td>103</td>\n",
       "    </tr>\n",
       "  </tbody>\n",
       "</table>\n",
       "</div>"
      ],
      "text/plain": [
       "               brone_medal\n",
       "country                   \n",
       "United States          320\n",
       "Russia                 313\n",
       "Germany                223\n",
       "Australia              220\n",
       "Italy                  142\n",
       "China                  140\n",
       "Japan                  113\n",
       "South Korea            105\n",
       "Canada                 104\n",
       "France                 103"
      ]
     },
     "execution_count": 48,
     "metadata": {},
     "output_type": "execute_result"
    }
   ],
   "source": [
    "most_bmedal"
   ]
  },
  {
   "cell_type": "markdown",
   "id": "cd018693",
   "metadata": {},
   "source": [
    "### All medals distribution"
   ]
  },
  {
   "cell_type": "code",
   "execution_count": 49,
   "id": "d65aa292",
   "metadata": {},
   "outputs": [
    {
     "data": {
      "text/html": [
       "<div>\n",
       "<style scoped>\n",
       "    .dataframe tbody tr th:only-of-type {\n",
       "        vertical-align: middle;\n",
       "    }\n",
       "\n",
       "    .dataframe tbody tr th {\n",
       "        vertical-align: top;\n",
       "    }\n",
       "\n",
       "    .dataframe thead th {\n",
       "        text-align: right;\n",
       "    }\n",
       "</style>\n",
       "<table border=\"1\" class=\"dataframe\">\n",
       "  <thead>\n",
       "    <tr style=\"text-align: right;\">\n",
       "      <th></th>\n",
       "      <th>country</th>\n",
       "      <th>total_medal</th>\n",
       "    </tr>\n",
       "  </thead>\n",
       "  <tbody>\n",
       "    <tr>\n",
       "      <th>0</th>\n",
       "      <td>United States</td>\n",
       "      <td>1312</td>\n",
       "    </tr>\n",
       "    <tr>\n",
       "      <th>1</th>\n",
       "      <td>Russia</td>\n",
       "      <td>768</td>\n",
       "    </tr>\n",
       "    <tr>\n",
       "      <th>2</th>\n",
       "      <td>Germany</td>\n",
       "      <td>629</td>\n",
       "    </tr>\n",
       "    <tr>\n",
       "      <th>3</th>\n",
       "      <td>Australia</td>\n",
       "      <td>609</td>\n",
       "    </tr>\n",
       "    <tr>\n",
       "      <th>4</th>\n",
       "      <td>China</td>\n",
       "      <td>530</td>\n",
       "    </tr>\n",
       "    <tr>\n",
       "      <th>5</th>\n",
       "      <td>Canada</td>\n",
       "      <td>370</td>\n",
       "    </tr>\n",
       "    <tr>\n",
       "      <th>6</th>\n",
       "      <td>Italy</td>\n",
       "      <td>331</td>\n",
       "    </tr>\n",
       "    <tr>\n",
       "      <th>7</th>\n",
       "      <td>Great Britain</td>\n",
       "      <td>322</td>\n",
       "    </tr>\n",
       "    <tr>\n",
       "      <th>8</th>\n",
       "      <td>France</td>\n",
       "      <td>318</td>\n",
       "    </tr>\n",
       "    <tr>\n",
       "      <th>9</th>\n",
       "      <td>Netherlands</td>\n",
       "      <td>318</td>\n",
       "    </tr>\n",
       "  </tbody>\n",
       "</table>\n",
       "</div>"
      ],
      "text/plain": [
       "         country  total_medal\n",
       "0  United States         1312\n",
       "1         Russia          768\n",
       "2        Germany          629\n",
       "3      Australia          609\n",
       "4          China          530\n",
       "5         Canada          370\n",
       "6          Italy          331\n",
       "7  Great Britain          322\n",
       "8         France          318\n",
       "9    Netherlands          318"
      ]
     },
     "execution_count": 49,
     "metadata": {},
     "output_type": "execute_result"
    }
   ],
   "source": [
    "most_medals.reset_index()"
   ]
  },
  {
   "cell_type": "markdown",
   "id": "fa5b82e2",
   "metadata": {},
   "source": [
    "Thus USA have won the maximum number of medals. Lets find out in which year he won the maximum medals."
   ]
  },
  {
   "cell_type": "code",
   "execution_count": 50,
   "id": "3fdaf720",
   "metadata": {},
   "outputs": [
    {
     "data": {
      "text/html": [
       "<div>\n",
       "<style scoped>\n",
       "    .dataframe tbody tr th:only-of-type {\n",
       "        vertical-align: middle;\n",
       "    }\n",
       "\n",
       "    .dataframe tbody tr th {\n",
       "        vertical-align: top;\n",
       "    }\n",
       "\n",
       "    .dataframe thead th {\n",
       "        text-align: right;\n",
       "    }\n",
       "</style>\n",
       "<table border=\"1\" class=\"dataframe\">\n",
       "  <thead>\n",
       "    <tr style=\"text-align: right;\">\n",
       "      <th></th>\n",
       "      <th>year</th>\n",
       "      <th>total_medal</th>\n",
       "    </tr>\n",
       "  </thead>\n",
       "  <tbody>\n",
       "    <tr>\n",
       "      <th>6</th>\n",
       "      <td>2012</td>\n",
       "      <td>254</td>\n",
       "    </tr>\n",
       "    <tr>\n",
       "      <th>5</th>\n",
       "      <td>2010</td>\n",
       "      <td>97</td>\n",
       "    </tr>\n",
       "    <tr>\n",
       "      <th>4</th>\n",
       "      <td>2008</td>\n",
       "      <td>317</td>\n",
       "    </tr>\n",
       "    <tr>\n",
       "      <th>3</th>\n",
       "      <td>2006</td>\n",
       "      <td>52</td>\n",
       "    </tr>\n",
       "    <tr>\n",
       "      <th>2</th>\n",
       "      <td>2004</td>\n",
       "      <td>265</td>\n",
       "    </tr>\n",
       "    <tr>\n",
       "      <th>1</th>\n",
       "      <td>2002</td>\n",
       "      <td>84</td>\n",
       "    </tr>\n",
       "    <tr>\n",
       "      <th>0</th>\n",
       "      <td>2000</td>\n",
       "      <td>243</td>\n",
       "    </tr>\n",
       "  </tbody>\n",
       "</table>\n",
       "</div>"
      ],
      "text/plain": [
       "   year  total_medal\n",
       "6  2012          254\n",
       "5  2010           97\n",
       "4  2008          317\n",
       "3  2006           52\n",
       "2  2004          265\n",
       "1  2002           84\n",
       "0  2000          243"
      ]
     },
     "execution_count": 50,
     "metadata": {},
     "output_type": "execute_result"
    }
   ],
   "source": [
    "usa=olympic[(olympic.country=='United States')]\n",
    "usa_year=usa.groupby('year')['total_medal'].sum().reset_index().sort_values('year',ascending=False)\n",
    "usa_year"
   ]
  },
  {
   "cell_type": "code",
   "execution_count": 51,
   "id": "b93b2034",
   "metadata": {},
   "outputs": [
    {
     "data": {
      "image/png": "[encoded data removed]",
      "text/plain": [
       "<Figure size 1080x432 with 1 Axes>"
      ]
     },
     "metadata": {
      "needs_background": "light"
     },
     "output_type": "display_data"
    }
   ],
   "source": [
    "plt.figure(figsize=(15,6))\n",
    "plot=sns.barplot(x='year',y='total_medal',data=usa_year)\n",
    "plt.xlabel('YEAR',fontsize=16)\n",
    "plt.ylabel('Total Medal won',fontsize=16)\n",
    "plt.title('USA medals earned in YEAR',fontsize=20)\n",
    "plt.grid()"
   ]
  },
  {
   "cell_type": "markdown",
   "id": "01df7706",
   "metadata": {},
   "source": [
    "USA have won maximum amount of Medals in 2008. Lets see in which sports in 2008 he won the maximum medals."
   ]
  },
  {
   "cell_type": "code",
   "execution_count": 52,
   "id": "7cfeba0a",
   "metadata": {},
   "outputs": [
    {
     "data": {
      "text/html": [
       "<div>\n",
       "<style scoped>\n",
       "    .dataframe tbody tr th:only-of-type {\n",
       "        vertical-align: middle;\n",
       "    }\n",
       "\n",
       "    .dataframe tbody tr th {\n",
       "        vertical-align: top;\n",
       "    }\n",
       "\n",
       "    .dataframe thead th {\n",
       "        text-align: right;\n",
       "    }\n",
       "</style>\n",
       "<table border=\"1\" class=\"dataframe\">\n",
       "  <thead>\n",
       "    <tr style=\"text-align: right;\">\n",
       "      <th></th>\n",
       "      <th>gold_medal</th>\n",
       "      <th>silver_medal</th>\n",
       "      <th>brone_medal</th>\n",
       "      <th>total_medal</th>\n",
       "    </tr>\n",
       "    <tr>\n",
       "      <th>sports</th>\n",
       "      <th></th>\n",
       "      <th></th>\n",
       "      <th></th>\n",
       "      <th></th>\n",
       "    </tr>\n",
       "  </thead>\n",
       "  <tbody>\n",
       "    <tr>\n",
       "      <th>Swimming</th>\n",
       "      <td>31</td>\n",
       "      <td>21</td>\n",
       "      <td>16</td>\n",
       "      <td>68</td>\n",
       "    </tr>\n",
       "    <tr>\n",
       "      <th>Athletics</th>\n",
       "      <td>16</td>\n",
       "      <td>9</td>\n",
       "      <td>7</td>\n",
       "      <td>32</td>\n",
       "    </tr>\n",
       "    <tr>\n",
       "      <th>Waterpolo</th>\n",
       "      <td>0</td>\n",
       "      <td>26</td>\n",
       "      <td>0</td>\n",
       "      <td>26</td>\n",
       "    </tr>\n",
       "    <tr>\n",
       "      <th>Basketball</th>\n",
       "      <td>24</td>\n",
       "      <td>0</td>\n",
       "      <td>0</td>\n",
       "      <td>24</td>\n",
       "    </tr>\n",
       "    <tr>\n",
       "      <th>Baseball</th>\n",
       "      <td>0</td>\n",
       "      <td>0</td>\n",
       "      <td>24</td>\n",
       "      <td>24</td>\n",
       "    </tr>\n",
       "    <tr>\n",
       "      <th>Volleyball</th>\n",
       "      <td>12</td>\n",
       "      <td>12</td>\n",
       "      <td>0</td>\n",
       "      <td>24</td>\n",
       "    </tr>\n",
       "    <tr>\n",
       "      <th>Gymnastics</th>\n",
       "      <td>2</td>\n",
       "      <td>11</td>\n",
       "      <td>7</td>\n",
       "      <td>20</td>\n",
       "    </tr>\n",
       "    <tr>\n",
       "      <th>Rowing</th>\n",
       "      <td>9</td>\n",
       "      <td>1</td>\n",
       "      <td>9</td>\n",
       "      <td>19</td>\n",
       "    </tr>\n",
       "    <tr>\n",
       "      <th>Football</th>\n",
       "      <td>17</td>\n",
       "      <td>0</td>\n",
       "      <td>0</td>\n",
       "      <td>17</td>\n",
       "    </tr>\n",
       "    <tr>\n",
       "      <th>Softball</th>\n",
       "      <td>0</td>\n",
       "      <td>15</td>\n",
       "      <td>0</td>\n",
       "      <td>15</td>\n",
       "    </tr>\n",
       "  </tbody>\n",
       "</table>\n",
       "</div>"
      ],
      "text/plain": [
       "            gold_medal  silver_medal  brone_medal  total_medal\n",
       "sports                                                        \n",
       "Swimming            31            21           16           68\n",
       "Athletics           16             9            7           32\n",
       "Waterpolo            0            26            0           26\n",
       "Basketball          24             0            0           24\n",
       "Baseball             0             0           24           24\n",
       "Volleyball          12            12            0           24\n",
       "Gymnastics           2            11            7           20\n",
       "Rowing               9             1            9           19\n",
       "Football            17             0            0           17\n",
       "Softball             0            15            0           15"
      ]
     },
     "execution_count": 52,
     "metadata": {},
     "output_type": "execute_result"
    }
   ],
   "source": [
    "usa_sports_y=usa[(usa.year==2008)]\n",
    "usa_sports=usa_sports_y.groupby(['sports'])[['gold_medal', 'silver_medal', 'brone_medal','total_medal']].sum().sort_values('total_medal',ascending=False).head(10)\n",
    "usa_sports"
   ]
  },
  {
   "cell_type": "code",
   "execution_count": 53,
   "id": "f728b0ef",
   "metadata": {},
   "outputs": [
    {
     "data": {
      "image/png": "[encoded data removed]",
      "text/plain": [
       "<Figure size 1080x432 with 1 Axes>"
      ]
     },
     "metadata": {
      "needs_background": "light"
     },
     "output_type": "display_data"
    }
   ],
   "source": [
    "usa_sports[['gold_medal', 'silver_medal', 'brone_medal']].plot(kind='bar',stacked=True,color=['Orange','Silver','brown'],xlabel='sports',figsize=(15,6))\n",
    "plt.xlabel('Sports',fontsize=16)\n",
    "plt.ylabel('Total medal',fontsize=16)\n",
    "plt.title('USA medal distribution in sports',fontsize=20)\n",
    "plt.grid()"
   ]
  },
  {
   "cell_type": "markdown",
   "id": "dd56668c",
   "metadata": {},
   "source": [
    "## Medals Won by india"
   ]
  },
  {
   "cell_type": "code",
   "execution_count": 54,
   "id": "115dea59",
   "metadata": {},
   "outputs": [
    {
     "data": {
      "text/html": [
       "<div>\n",
       "<style scoped>\n",
       "    .dataframe tbody tr th:only-of-type {\n",
       "        vertical-align: middle;\n",
       "    }\n",
       "\n",
       "    .dataframe tbody tr th {\n",
       "        vertical-align: top;\n",
       "    }\n",
       "\n",
       "    .dataframe thead th {\n",
       "        text-align: right;\n",
       "    }\n",
       "</style>\n",
       "<table border=\"1\" class=\"dataframe\">\n",
       "  <thead>\n",
       "    <tr style=\"text-align: right;\">\n",
       "      <th></th>\n",
       "      <th>gold_medal</th>\n",
       "      <th>silver_medal</th>\n",
       "      <th>brone_medal</th>\n",
       "      <th>total_medal</th>\n",
       "    </tr>\n",
       "    <tr>\n",
       "      <th>year</th>\n",
       "      <th></th>\n",
       "      <th></th>\n",
       "      <th></th>\n",
       "      <th></th>\n",
       "    </tr>\n",
       "  </thead>\n",
       "  <tbody>\n",
       "    <tr>\n",
       "      <th>2012</th>\n",
       "      <td>0</td>\n",
       "      <td>2</td>\n",
       "      <td>4</td>\n",
       "      <td>6</td>\n",
       "    </tr>\n",
       "    <tr>\n",
       "      <th>2008</th>\n",
       "      <td>1</td>\n",
       "      <td>0</td>\n",
       "      <td>2</td>\n",
       "      <td>3</td>\n",
       "    </tr>\n",
       "    <tr>\n",
       "      <th>2000</th>\n",
       "      <td>0</td>\n",
       "      <td>0</td>\n",
       "      <td>1</td>\n",
       "      <td>1</td>\n",
       "    </tr>\n",
       "    <tr>\n",
       "      <th>2004</th>\n",
       "      <td>0</td>\n",
       "      <td>1</td>\n",
       "      <td>0</td>\n",
       "      <td>1</td>\n",
       "    </tr>\n",
       "  </tbody>\n",
       "</table>\n",
       "</div>"
      ],
      "text/plain": [
       "      gold_medal  silver_medal  brone_medal  total_medal\n",
       "year                                                    \n",
       "2012           0             2            4            6\n",
       "2008           1             0            2            3\n",
       "2000           0             0            1            1\n",
       "2004           0             1            0            1"
      ]
     },
     "execution_count": 54,
     "metadata": {},
     "output_type": "execute_result"
    }
   ],
   "source": [
    "india=olympic[(olympic.country=='India')]\n",
    "india_medals=india.groupby('year')[['gold_medal','silver_medal','brone_medal','total_medal']].sum().sort_values('total_medal',ascending=False)\n",
    "india_medals"
   ]
  },
  {
   "cell_type": "markdown",
   "id": "504ce641",
   "metadata": {},
   "source": [
    "India won total of <b> 6 medal in 2012, 3 in 2008, 1 in 2000 and 2004</b> . But sadly India haven't won any medal in 2002, 2006 and 2010. But good thing is that India won 1 gold medal in 2008."
   ]
  },
  {
   "cell_type": "code",
   "execution_count": 55,
   "id": "64c03058",
   "metadata": {},
   "outputs": [
    {
     "data": {
      "text/html": [
       "<div>\n",
       "<style scoped>\n",
       "    .dataframe tbody tr th:only-of-type {\n",
       "        vertical-align: middle;\n",
       "    }\n",
       "\n",
       "    .dataframe tbody tr th {\n",
       "        vertical-align: top;\n",
       "    }\n",
       "\n",
       "    .dataframe thead th {\n",
       "        text-align: right;\n",
       "    }\n",
       "</style>\n",
       "<table border=\"1\" class=\"dataframe\">\n",
       "  <thead>\n",
       "    <tr style=\"text-align: right;\">\n",
       "      <th></th>\n",
       "      <th>name</th>\n",
       "      <th>age</th>\n",
       "      <th>country</th>\n",
       "      <th>year</th>\n",
       "      <th>Date_Given</th>\n",
       "      <th>sports</th>\n",
       "      <th>gold_medal</th>\n",
       "      <th>silver_medal</th>\n",
       "      <th>brone_medal</th>\n",
       "      <th>total_medal</th>\n",
       "      <th>age_log</th>\n",
       "    </tr>\n",
       "  </thead>\n",
       "  <tbody>\n",
       "    <tr>\n",
       "      <th>2807</th>\n",
       "      <td>Abhinav Bindra</td>\n",
       "      <td>25.0</td>\n",
       "      <td>India</td>\n",
       "      <td>2008</td>\n",
       "      <td>8/24/2008</td>\n",
       "      <td>Shooting</td>\n",
       "      <td>1</td>\n",
       "      <td>0</td>\n",
       "      <td>0</td>\n",
       "      <td>1</td>\n",
       "      <td>3.218876</td>\n",
       "    </tr>\n",
       "  </tbody>\n",
       "</table>\n",
       "</div>"
      ],
      "text/plain": [
       "                name   age country  year Date_Given    sports  gold_medal  \\\n",
       "2807  Abhinav Bindra  25.0   India  2008  8/24/2008  Shooting           1   \n",
       "\n",
       "      silver_medal  brone_medal  total_medal   age_log  \n",
       "2807             0            0            1  3.218876  "
      ]
     },
     "execution_count": 55,
     "metadata": {},
     "output_type": "execute_result"
    }
   ],
   "source": [
    "india_gold=india[(india.gold_medal==1)]\n",
    "india_gold"
   ]
  },
  {
   "cell_type": "markdown",
   "id": "55ab2a5b",
   "metadata": {},
   "source": [
    "## Abhinav Bindra won gold medal for INDIA in 2008 in Shooting Event"
   ]
  },
  {
   "cell_type": "markdown",
   "id": "6cbb64a9",
   "metadata": {},
   "source": [
    "# Summary\n",
    "*   USA sent the most number of participant in the Olympic followed by the Russia and Germany.\n",
    "## <font color=\"green\">About medals\n",
    "    \n",
    "*   USA in all three medal topped the list that is usa have won maximum number of gold,silver and bronze medal.\n",
    "*   Russia however maintained the spot of 2nd and 3rd place that means Russia secured 2nd position in Gold and Bronze medal and 2nd position in silver medal\n",
    "*   Overall, that is sum of gold,silver and bronze, the USA have won the most medals followed by the RUSSIA and Followed by ther Germany.\n",
    "    \n",
    " ## <font color='green'>About Sports\n",
    "*   If we see in overall then we see that maximum number of medals won in Swimming, Followed by Athletics and Rowing.\n",
    "*   From the graph of total graph, gold medal graph, silver medal graph and bronze medal graph we can see that there is almost no difference between total graph and gold, silver and bronze graph. \n",
    " ## <font color='green'> About Players\n",
    "*   Top players who won the maximum medals is from USA and infact the top 3 players who won the maximum medals is from USA.\n",
    " ## <font color='green'>Popular sports\n",
    "*   The mosty famous sports among participant followed by Rowing. It is also important to know that Hockey and football have very little difference.\n",
    " ## <font color='green'>Participants Participated in each Year\n",
    "*   The maximum number of participation is during the year of 2008 and the least participant least participated in the year of 2002\n",
    "*   From the data it is very much clear that Maximum of countries participated during 2008 and 2021. \n",
    " ## <font color='green'> ABOUT INDIA\n",
    "*   India won total of 6 medal in 2012, 3 in 2008, 1 in 2000 and 2004 . But sadly India haven't won any medal in 2002, 2006 and 2010. But good thing is that India won 1 gold medal in 2008.\n",
    "*   Abhinav Bindra won gold medal for INDIA in 2008 in Shooting Event"
   ]
  },
  {
   "cell_type": "code",
   "execution_count": null,
   "id": "0594a84c",
   "metadata": {},
   "outputs": [],
   "source": []
  },
  {
   "cell_type": "code",
   "execution_count": null,
   "id": "e1066a1b",
   "metadata": {},
   "outputs": [],
   "source": []
  },
  {
   "cell_type": "code",
   "execution_count": null,
   "id": "7d0f09ab",
   "metadata": {},
   "outputs": [],
   "source": []
  },
  {
   "cell_type": "code",
   "execution_count": null,
   "id": "1a2cb97b",
   "metadata": {},
   "outputs": [],
   "source": []
  },
  {
   "cell_type": "code",
   "execution_count": null,
   "id": "59882c3b",
   "metadata": {},
   "outputs": [],
   "source": []
  }
 ],
 "metadata": {
  "kernelspec": {
   "display_name": "Python 3 (ipykernel)",
   "language": "python",
   "name": "python3"
  },
  "language_info": {
   "codemirror_mode": {
    "name": "ipython",
    "version": 3
   },
   "file_extension": ".py",
   "mimetype": "text/x-python",
   "name": "python",
   "nbconvert_exporter": "python",
   "pygments_lexer": "ipython3",
   "version": "3.9.7"
  }
 },
 "nbformat": 4,
 "nbformat_minor": 5
}
